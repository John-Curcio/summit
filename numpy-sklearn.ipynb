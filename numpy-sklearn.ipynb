{
 "cells": [
  {
   "cell_type": "markdown",
   "metadata": {},
   "source": [
    "# Basic Data Analysis in Python\n",
    "\n",
    "This workshop introduces the basics of using Python for data analysis, specifically packages like NumPy, Pandas, and Scikit-Learn.\n",
    "\n",
    "Throughout, we'll be working with a dataset of home prices in Iowa. This is a fairly common dataset for practicing and testing advanced regression techniques. If you're a real estate mogul or something, and you can model housing prices well, then you could recognize undervalued properties and sell them for their true market value, making a bundle in the process. "
   ]
  },
  {
   "cell_type": "code",
   "execution_count": 1,
   "metadata": {
    "collapsed": true
   },
   "outputs": [],
   "source": [
    "import numpy as np\n",
    "import sklearn as sk"
   ]
  },
  {
   "cell_type": "markdown",
   "metadata": {},
   "source": [
    "We'll start by talking about programming stuff, like vectorization in NumPy. Then we'll load our dataset as a Pandas dataframe and play around with it, with some minor visualization. We'll spend the final 40% of the talk doing some modeling with SciKit-Learn."
   ]
  },
  {
   "cell_type": "markdown",
   "metadata": {},
   "source": [
    "## NumPy\n",
    "\n",
    "Python, being an interpreted language, is unfortunately not the fastest thing out there. If you're an analyst, you aren't exactly paid to write software, but you still care about performance - some matrix operations have the potential to take a pretty long time, even if the data is small enough to fit in RAM.\n",
    "\n",
    "NumPy is a Python package for working with very large, often multidimensional arrays, and provides a lot of useful functions for mathematical operations on either scalars or arrays. "
   ]
  },
  {
   "cell_type": "markdown",
   "metadata": {},
   "source": [
    "### Arrays\n",
    "\n",
    "NumPy's `ndarray`s (n-dimensional arrays) compose the core functionality behind NumPy. All the sexy packages - Tensorflow, Scikit-Learn, OpenCV - they're all built on top of NumPy. We like NumPy because it performs as fast as a compiled language like Fortran, but as easy to use as Python.\n",
    "\n",
    "Today, however, all we care about is the NumPy array. You can initialize one by calling `np.array()` on a list."
   ]
  },
  {
   "cell_type": "code",
   "execution_count": 2,
   "metadata": {
    "collapsed": false
   },
   "outputs": [
    {
     "name": "stdout",
     "output_type": "stream",
     "text": [
      "[0 1 2 3 4 5 6 7 8 9]\n",
      "[0 1 2 3 4 5 6 7 8 9]\n"
     ]
    }
   ],
   "source": [
    "print (np.array(range(10)))\n",
    "print (np.array([0, 1, 2, 3, 4, 5, 6, 7, 8, 9]))"
   ]
  },
  {
   "cell_type": "markdown",
   "metadata": {},
   "source": [
    "### Vectorization\n",
    "\n",
    "A really common task in data science is applying a transformation to data. If you're storing your data as a list, and you want to add `1` to every element of your list, then you'd want to iterate over your data like so.\n",
    "\n",
    "I'm using the `time` library to demonstrate performance."
   ]
  },
  {
   "cell_type": "code",
   "execution_count": 3,
   "metadata": {
    "collapsed": false
   },
   "outputs": [
    {
     "name": "stdout",
     "output_type": "stream",
     "text": [
      "For loop: 0.35578131675720215\n"
     ]
    }
   ],
   "source": [
    "import time\n",
    "\n",
    "n = 10**6\n",
    "\n",
    "start = time.time()\n",
    "foo = list(range(n))\n",
    "for i in range(len(foo)):\n",
    "    foo[i] = foo[i] + 1\n",
    "end = time.time()\n",
    "print (\"For loop:\", end - start)"
   ]
  },
  {
   "cell_type": "code",
   "execution_count": 4,
   "metadata": {
    "collapsed": false
   },
   "outputs": [
    {
     "name": "stdout",
     "output_type": "stream",
     "text": [
      "0.1331636905670166\n"
     ]
    }
   ],
   "source": [
    "# slightly better: list comprehensions\n",
    "start = time.time()\n",
    "foo = [elem + 1 for elem in foo]\n",
    "end = time.time()\n",
    "print(end - start)"
   ]
  },
  {
   "cell_type": "markdown",
   "metadata": {},
   "source": [
    "If you've stored your data as a numpy array, you can do this in one hundredth of the time."
   ]
  },
  {
   "cell_type": "code",
   "execution_count": 5,
   "metadata": {
    "collapsed": false
   },
   "outputs": [
    {
     "name": "stdout",
     "output_type": "stream",
     "text": [
      "0.0\n"
     ]
    }
   ],
   "source": [
    "foo = np.array(range(n))\n",
    "start = time.time()\n",
    "foo = foo + 1 #this gets applied element-wise to the array foo\n",
    "end = time.time()\n",
    "print(end - start) "
   ]
  },
  {
   "cell_type": "markdown",
   "metadata": {},
   "source": [
    "Note the syntax: `foo = foo + 1`. The `+ 1` gets *broadcast* to every element of the array `foo`. \n",
    "\n",
    "So not only is this much faster, but your code is more elegant - instead of having a bunch of `for` loops every time you need to do something with or to your data, you can have code that looks a lot more like a page of notes from 21-241.\n",
    "\n",
    "Below is another example of what I'm talking about:"
   ]
  },
  {
   "cell_type": "code",
   "execution_count": 6,
   "metadata": {
    "collapsed": false
   },
   "outputs": [
    {
     "name": "stdout",
     "output_type": "stream",
     "text": [
      "regular: 0.408444881439209\n",
      "list comprehension: 0.20514559745788574\n",
      "NumPy: 0.018010616302490234\n"
     ]
    }
   ],
   "source": [
    "n = 10**6\n",
    "\n",
    "a = list(range(n))\n",
    "b = list(range(n))\n",
    "\n",
    "start = time.time()\n",
    "c = list(range(n))\n",
    "for i in range(len(c)):\n",
    "    c[i] = a[i] + b[i]\n",
    "end = time.time()\n",
    "print (\"regular:\", end - start)\n",
    "\n",
    "start = time.time()\n",
    "c = [a[i] + b[i] for i in range(len(a))]\n",
    "end = time.time()\n",
    "print (\"list comprehension:\", end - start)\n",
    "\n",
    "a = np.array(a)\n",
    "b = np.array(b)\n",
    "start = time.time()\n",
    "c = a + b\n",
    "end = time.time()\n",
    "print (\"NumPy:\", end - start)"
   ]
  },
  {
   "cell_type": "markdown",
   "metadata": {},
   "source": [
    "This programming paradigm, where we take operations between scalars and seamlessly generalize them to vectors, is called *vectorization*. \n",
    "\n",
    "Vectorized Python is almost always much faster, because the interpreter is taking the array operations and using compiled code to execute them. These array operations frequently have nasty big-O bounds associated with them, so of course they're the source of our efficiency pains.\n",
    "\n",
    "We won't need anything more than the 1-dimensional array for today, but we'll find the paradigm useful nonetheless.\n",
    "\n",
    "### Boolean Indexing\n",
    "\n",
    "Subsetting data based on conditions is very straightforward in NumPy."
   ]
  },
  {
   "cell_type": "code",
   "execution_count": 7,
   "metadata": {
    "collapsed": false
   },
   "outputs": [
    {
     "name": "stdout",
     "output_type": "stream",
     "text": [
      "[1 2 3 4 5 6 7 8 9]\n",
      "[     10      11      12 ...,  999998  999999 1000000]\n"
     ]
    }
   ],
   "source": [
    "inds = foo < 10\n",
    "print (foo[inds])\n",
    "print (foo[~inds])"
   ]
  },
  {
   "cell_type": "code",
   "execution_count": 8,
   "metadata": {
    "collapsed": true
   },
   "outputs": [],
   "source": [
    "# Quiz: Get a list of all the odd elements of foo\n",
    "# Answer: foo[foo % 2 == 1]"
   ]
  },
  {
   "cell_type": "code",
   "execution_count": 9,
   "metadata": {
    "collapsed": true
   },
   "outputs": [],
   "source": [
    "def train_test_split(X, Y, p=0.75):\n",
    "    train_inds = np.random.randn(len(X)) < p\n",
    "    X_train, X_test = X[train_inds], X[~train_inds]\n",
    "    Y_train, Y_test = Y[train_inds], Y[~train_inds]\n",
    "    return (X_train, Y_train, X_test, Y_test)"
   ]
  },
  {
   "cell_type": "markdown",
   "metadata": {},
   "source": [
    "### Miscellaneous stuff\n",
    "\n",
    "Random number generation is nice."
   ]
  },
  {
   "cell_type": "code",
   "execution_count": 10,
   "metadata": {
    "collapsed": false
   },
   "outputs": [
    {
     "name": "stdout",
     "output_type": "stream",
     "text": [
      "[ 0.20930587  0.99626923  0.40913373  0.43623427  0.4733187 ]\n",
      "[ -16.59256493   28.26852914   26.29909304 -111.18264654  -35.96742186]\n",
      "['A' 'A' 'D' 'D' 'C']\n"
     ]
    }
   ],
   "source": [
    "print (np.random.uniform(0, 1, size=5)) #10 draws from Uniform(0, 1)\n",
    "print (np.random.normal(0, 100, size=5)) #10 draws from Normal(0, 100)\n",
    "print (np.random.choice([\"A\", \"B\", \"C\", \"D\"], size=5)) #10 draws with replacement"
   ]
  },
  {
   "cell_type": "markdown",
   "metadata": {},
   "source": [
    "## Pandas\n",
    "\n",
    "Pandas gives us the `DataFrame` data structure, which you can think of as simply a 2-D array. The columns must have the same length, but you can have different column types.\n",
    "\n",
    "The dataframe can be indexed by row or by column. You can index a dataframe by its row just like you would a python list, and you index a column by its string column name.\n",
    "\n",
    "Example below."
   ]
  },
  {
   "cell_type": "code",
   "execution_count": 11,
   "metadata": {
    "collapsed": false
   },
   "outputs": [
    {
     "data": {
      "text/html": [
       "<div>\n",
       "<style>\n",
       "    .dataframe thead tr:only-child th {\n",
       "        text-align: right;\n",
       "    }\n",
       "\n",
       "    .dataframe thead th {\n",
       "        text-align: left;\n",
       "    }\n",
       "\n",
       "    .dataframe tbody tr th {\n",
       "        vertical-align: top;\n",
       "    }\n",
       "</style>\n",
       "<table border=\"1\" class=\"dataframe\">\n",
       "  <thead>\n",
       "    <tr style=\"text-align: right;\">\n",
       "      <th></th>\n",
       "      <th>A</th>\n",
       "      <th>B</th>\n",
       "      <th>C</th>\n",
       "      <th>D</th>\n",
       "    </tr>\n",
       "  </thead>\n",
       "  <tbody>\n",
       "    <tr>\n",
       "      <th>0</th>\n",
       "      <td>0</td>\n",
       "      <td>-1.959597</td>\n",
       "      <td>7</td>\n",
       "      <td>this is a string</td>\n",
       "    </tr>\n",
       "    <tr>\n",
       "      <th>1</th>\n",
       "      <td>1</td>\n",
       "      <td>2.007729</td>\n",
       "      <td>7</td>\n",
       "      <td>this is a string</td>\n",
       "    </tr>\n",
       "    <tr>\n",
       "      <th>2</th>\n",
       "      <td>2</td>\n",
       "      <td>1.184746</td>\n",
       "      <td>7</td>\n",
       "      <td>this is a string</td>\n",
       "    </tr>\n",
       "    <tr>\n",
       "      <th>3</th>\n",
       "      <td>3</td>\n",
       "      <td>0.175203</td>\n",
       "      <td>7</td>\n",
       "      <td>this is a string</td>\n",
       "    </tr>\n",
       "    <tr>\n",
       "      <th>4</th>\n",
       "      <td>4</td>\n",
       "      <td>-0.361289</td>\n",
       "      <td>7</td>\n",
       "      <td>this is a string</td>\n",
       "    </tr>\n",
       "    <tr>\n",
       "      <th>5</th>\n",
       "      <td>5</td>\n",
       "      <td>0.749168</td>\n",
       "      <td>7</td>\n",
       "      <td>this is a string</td>\n",
       "    </tr>\n",
       "    <tr>\n",
       "      <th>6</th>\n",
       "      <td>6</td>\n",
       "      <td>0.262394</td>\n",
       "      <td>7</td>\n",
       "      <td>this is a string</td>\n",
       "    </tr>\n",
       "    <tr>\n",
       "      <th>7</th>\n",
       "      <td>7</td>\n",
       "      <td>-0.469668</td>\n",
       "      <td>7</td>\n",
       "      <td>this is a string</td>\n",
       "    </tr>\n",
       "    <tr>\n",
       "      <th>8</th>\n",
       "      <td>8</td>\n",
       "      <td>-1.276390</td>\n",
       "      <td>7</td>\n",
       "      <td>this is a string</td>\n",
       "    </tr>\n",
       "    <tr>\n",
       "      <th>9</th>\n",
       "      <td>9</td>\n",
       "      <td>-0.507516</td>\n",
       "      <td>7</td>\n",
       "      <td>this is a string</td>\n",
       "    </tr>\n",
       "  </tbody>\n",
       "</table>\n",
       "</div>"
      ],
      "text/plain": [
       "   A         B  C                 D\n",
       "0  0 -1.959597  7  this is a string\n",
       "1  1  2.007729  7  this is a string\n",
       "2  2  1.184746  7  this is a string\n",
       "3  3  0.175203  7  this is a string\n",
       "4  4 -0.361289  7  this is a string\n",
       "5  5  0.749168  7  this is a string\n",
       "6  6  0.262394  7  this is a string\n",
       "7  7 -0.469668  7  this is a string\n",
       "8  8 -1.276390  7  this is a string\n",
       "9  9 -0.507516  7  this is a string"
      ]
     },
     "execution_count": 11,
     "metadata": {},
     "output_type": "execute_result"
    }
   ],
   "source": [
    "import pandas as pd\n",
    "\n",
    "df = pd.DataFrame({\n",
    "        \"A\":list(range(10)),\n",
    "        \"B\":np.random.randn(10),\n",
    "        \"C\":7,\n",
    "        \"D\":[\"this is a string\" for i in range(10)]\n",
    "    })\n",
    "\n",
    "df"
   ]
  },
  {
   "cell_type": "code",
   "execution_count": 12,
   "metadata": {
    "collapsed": false
   },
   "outputs": [
    {
     "data": {
      "text/html": [
       "<div>\n",
       "<style>\n",
       "    .dataframe thead tr:only-child th {\n",
       "        text-align: right;\n",
       "    }\n",
       "\n",
       "    .dataframe thead th {\n",
       "        text-align: left;\n",
       "    }\n",
       "\n",
       "    .dataframe tbody tr th {\n",
       "        vertical-align: top;\n",
       "    }\n",
       "</style>\n",
       "<table border=\"1\" class=\"dataframe\">\n",
       "  <thead>\n",
       "    <tr style=\"text-align: right;\">\n",
       "      <th></th>\n",
       "      <th>A</th>\n",
       "      <th>B</th>\n",
       "      <th>C</th>\n",
       "      <th>D</th>\n",
       "    </tr>\n",
       "  </thead>\n",
       "  <tbody>\n",
       "    <tr>\n",
       "      <th>3</th>\n",
       "      <td>3</td>\n",
       "      <td>0.175203</td>\n",
       "      <td>7</td>\n",
       "      <td>this is a string</td>\n",
       "    </tr>\n",
       "    <tr>\n",
       "      <th>4</th>\n",
       "      <td>4</td>\n",
       "      <td>-0.361289</td>\n",
       "      <td>7</td>\n",
       "      <td>this is a string</td>\n",
       "    </tr>\n",
       "    <tr>\n",
       "      <th>5</th>\n",
       "      <td>5</td>\n",
       "      <td>0.749168</td>\n",
       "      <td>7</td>\n",
       "      <td>this is a string</td>\n",
       "    </tr>\n",
       "    <tr>\n",
       "      <th>6</th>\n",
       "      <td>6</td>\n",
       "      <td>0.262394</td>\n",
       "      <td>7</td>\n",
       "      <td>this is a string</td>\n",
       "    </tr>\n",
       "  </tbody>\n",
       "</table>\n",
       "</div>"
      ],
      "text/plain": [
       "   A         B  C                 D\n",
       "3  3  0.175203  7  this is a string\n",
       "4  4 -0.361289  7  this is a string\n",
       "5  5  0.749168  7  this is a string\n",
       "6  6  0.262394  7  this is a string"
      ]
     },
     "execution_count": 12,
     "metadata": {},
     "output_type": "execute_result"
    }
   ],
   "source": [
    "df.iloc[3:7] #iloc for \"integer location\". Use this for selecting rows of a dataframe."
   ]
  },
  {
   "cell_type": "code",
   "execution_count": 13,
   "metadata": {
    "collapsed": false
   },
   "outputs": [
    {
     "data": {
      "text/plain": [
       "3    0.175203\n",
       "4   -0.361289\n",
       "8   -1.276390\n",
       "Name: B, dtype: float64"
      ]
     },
     "execution_count": 13,
     "metadata": {},
     "output_type": "execute_result"
    }
   ],
   "source": [
    "df[\"B\"][[3, 4, 8]]"
   ]
  },
  {
   "cell_type": "code",
   "execution_count": 14,
   "metadata": {
    "collapsed": false
   },
   "outputs": [
    {
     "data": {
      "text/plain": [
       "0.17520250587714439"
      ]
     },
     "execution_count": 14,
     "metadata": {},
     "output_type": "execute_result"
    }
   ],
   "source": [
    "df[\"B\"][3]"
   ]
  },
  {
   "cell_type": "code",
   "execution_count": 15,
   "metadata": {
    "collapsed": false
   },
   "outputs": [
    {
     "data": {
      "text/html": [
       "<div>\n",
       "<style>\n",
       "    .dataframe thead tr:only-child th {\n",
       "        text-align: right;\n",
       "    }\n",
       "\n",
       "    .dataframe thead th {\n",
       "        text-align: left;\n",
       "    }\n",
       "\n",
       "    .dataframe tbody tr th {\n",
       "        vertical-align: top;\n",
       "    }\n",
       "</style>\n",
       "<table border=\"1\" class=\"dataframe\">\n",
       "  <thead>\n",
       "    <tr style=\"text-align: right;\">\n",
       "      <th></th>\n",
       "      <th>Id</th>\n",
       "      <th>MSSubClass</th>\n",
       "      <th>MSZoning</th>\n",
       "      <th>LotFrontage</th>\n",
       "      <th>LotArea</th>\n",
       "      <th>Street</th>\n",
       "      <th>Alley</th>\n",
       "      <th>LotShape</th>\n",
       "      <th>LandContour</th>\n",
       "      <th>Utilities</th>\n",
       "      <th>...</th>\n",
       "      <th>PoolArea</th>\n",
       "      <th>PoolQC</th>\n",
       "      <th>Fence</th>\n",
       "      <th>MiscFeature</th>\n",
       "      <th>MiscVal</th>\n",
       "      <th>MoSold</th>\n",
       "      <th>YrSold</th>\n",
       "      <th>SaleType</th>\n",
       "      <th>SaleCondition</th>\n",
       "      <th>SalePrice</th>\n",
       "    </tr>\n",
       "  </thead>\n",
       "  <tbody>\n",
       "    <tr>\n",
       "      <th>0</th>\n",
       "      <td>1</td>\n",
       "      <td>60</td>\n",
       "      <td>RL</td>\n",
       "      <td>65.0</td>\n",
       "      <td>8450</td>\n",
       "      <td>Pave</td>\n",
       "      <td>NaN</td>\n",
       "      <td>Reg</td>\n",
       "      <td>Lvl</td>\n",
       "      <td>AllPub</td>\n",
       "      <td>...</td>\n",
       "      <td>0</td>\n",
       "      <td>NaN</td>\n",
       "      <td>NaN</td>\n",
       "      <td>NaN</td>\n",
       "      <td>0</td>\n",
       "      <td>2</td>\n",
       "      <td>2008</td>\n",
       "      <td>WD</td>\n",
       "      <td>Normal</td>\n",
       "      <td>208500</td>\n",
       "    </tr>\n",
       "    <tr>\n",
       "      <th>1</th>\n",
       "      <td>2</td>\n",
       "      <td>20</td>\n",
       "      <td>RL</td>\n",
       "      <td>80.0</td>\n",
       "      <td>9600</td>\n",
       "      <td>Pave</td>\n",
       "      <td>NaN</td>\n",
       "      <td>Reg</td>\n",
       "      <td>Lvl</td>\n",
       "      <td>AllPub</td>\n",
       "      <td>...</td>\n",
       "      <td>0</td>\n",
       "      <td>NaN</td>\n",
       "      <td>NaN</td>\n",
       "      <td>NaN</td>\n",
       "      <td>0</td>\n",
       "      <td>5</td>\n",
       "      <td>2007</td>\n",
       "      <td>WD</td>\n",
       "      <td>Normal</td>\n",
       "      <td>181500</td>\n",
       "    </tr>\n",
       "    <tr>\n",
       "      <th>2</th>\n",
       "      <td>3</td>\n",
       "      <td>60</td>\n",
       "      <td>RL</td>\n",
       "      <td>68.0</td>\n",
       "      <td>11250</td>\n",
       "      <td>Pave</td>\n",
       "      <td>NaN</td>\n",
       "      <td>IR1</td>\n",
       "      <td>Lvl</td>\n",
       "      <td>AllPub</td>\n",
       "      <td>...</td>\n",
       "      <td>0</td>\n",
       "      <td>NaN</td>\n",
       "      <td>NaN</td>\n",
       "      <td>NaN</td>\n",
       "      <td>0</td>\n",
       "      <td>9</td>\n",
       "      <td>2008</td>\n",
       "      <td>WD</td>\n",
       "      <td>Normal</td>\n",
       "      <td>223500</td>\n",
       "    </tr>\n",
       "    <tr>\n",
       "      <th>3</th>\n",
       "      <td>4</td>\n",
       "      <td>70</td>\n",
       "      <td>RL</td>\n",
       "      <td>60.0</td>\n",
       "      <td>9550</td>\n",
       "      <td>Pave</td>\n",
       "      <td>NaN</td>\n",
       "      <td>IR1</td>\n",
       "      <td>Lvl</td>\n",
       "      <td>AllPub</td>\n",
       "      <td>...</td>\n",
       "      <td>0</td>\n",
       "      <td>NaN</td>\n",
       "      <td>NaN</td>\n",
       "      <td>NaN</td>\n",
       "      <td>0</td>\n",
       "      <td>2</td>\n",
       "      <td>2006</td>\n",
       "      <td>WD</td>\n",
       "      <td>Abnorml</td>\n",
       "      <td>140000</td>\n",
       "    </tr>\n",
       "    <tr>\n",
       "      <th>4</th>\n",
       "      <td>5</td>\n",
       "      <td>60</td>\n",
       "      <td>RL</td>\n",
       "      <td>84.0</td>\n",
       "      <td>14260</td>\n",
       "      <td>Pave</td>\n",
       "      <td>NaN</td>\n",
       "      <td>IR1</td>\n",
       "      <td>Lvl</td>\n",
       "      <td>AllPub</td>\n",
       "      <td>...</td>\n",
       "      <td>0</td>\n",
       "      <td>NaN</td>\n",
       "      <td>NaN</td>\n",
       "      <td>NaN</td>\n",
       "      <td>0</td>\n",
       "      <td>12</td>\n",
       "      <td>2008</td>\n",
       "      <td>WD</td>\n",
       "      <td>Normal</td>\n",
       "      <td>250000</td>\n",
       "    </tr>\n",
       "  </tbody>\n",
       "</table>\n",
       "<p>5 rows × 81 columns</p>\n",
       "</div>"
      ],
      "text/plain": [
       "   Id  MSSubClass MSZoning  LotFrontage  LotArea Street Alley LotShape  \\\n",
       "0   1          60       RL         65.0     8450   Pave   NaN      Reg   \n",
       "1   2          20       RL         80.0     9600   Pave   NaN      Reg   \n",
       "2   3          60       RL         68.0    11250   Pave   NaN      IR1   \n",
       "3   4          70       RL         60.0     9550   Pave   NaN      IR1   \n",
       "4   5          60       RL         84.0    14260   Pave   NaN      IR1   \n",
       "\n",
       "  LandContour Utilities    ...     PoolArea PoolQC Fence MiscFeature MiscVal  \\\n",
       "0         Lvl    AllPub    ...            0    NaN   NaN         NaN       0   \n",
       "1         Lvl    AllPub    ...            0    NaN   NaN         NaN       0   \n",
       "2         Lvl    AllPub    ...            0    NaN   NaN         NaN       0   \n",
       "3         Lvl    AllPub    ...            0    NaN   NaN         NaN       0   \n",
       "4         Lvl    AllPub    ...            0    NaN   NaN         NaN       0   \n",
       "\n",
       "  MoSold YrSold  SaleType  SaleCondition  SalePrice  \n",
       "0      2   2008        WD         Normal     208500  \n",
       "1      5   2007        WD         Normal     181500  \n",
       "2      9   2008        WD         Normal     223500  \n",
       "3      2   2006        WD        Abnorml     140000  \n",
       "4     12   2008        WD         Normal     250000  \n",
       "\n",
       "[5 rows x 81 columns]"
      ]
     },
     "execution_count": 15,
     "metadata": {},
     "output_type": "execute_result"
    }
   ],
   "source": [
    "# Kaggle Competition: Predicting housing prices from data about the house\n",
    "data = pd.read_csv(\"train.csv\") \n",
    "data.head()"
   ]
  },
  {
   "cell_type": "code",
   "execution_count": 16,
   "metadata": {
    "collapsed": false
   },
   "outputs": [
    {
     "data": {
      "text/html": [
       "<div>\n",
       "<style>\n",
       "    .dataframe thead tr:only-child th {\n",
       "        text-align: right;\n",
       "    }\n",
       "\n",
       "    .dataframe thead th {\n",
       "        text-align: left;\n",
       "    }\n",
       "\n",
       "    .dataframe tbody tr th {\n",
       "        vertical-align: top;\n",
       "    }\n",
       "</style>\n",
       "<table border=\"1\" class=\"dataframe\">\n",
       "  <thead>\n",
       "    <tr style=\"text-align: right;\">\n",
       "      <th></th>\n",
       "      <th>SalePrice</th>\n",
       "      <th>OverallQual</th>\n",
       "      <th>OverallCond</th>\n",
       "      <th>GarageArea</th>\n",
       "      <th>YrSold</th>\n",
       "      <th>LotArea</th>\n",
       "      <th>LotFrontage</th>\n",
       "      <th>YearBuilt</th>\n",
       "    </tr>\n",
       "  </thead>\n",
       "  <tbody>\n",
       "    <tr>\n",
       "      <th>0</th>\n",
       "      <td>208500</td>\n",
       "      <td>7</td>\n",
       "      <td>5</td>\n",
       "      <td>548</td>\n",
       "      <td>2008</td>\n",
       "      <td>8450</td>\n",
       "      <td>65.0</td>\n",
       "      <td>2003</td>\n",
       "    </tr>\n",
       "    <tr>\n",
       "      <th>1</th>\n",
       "      <td>181500</td>\n",
       "      <td>6</td>\n",
       "      <td>8</td>\n",
       "      <td>460</td>\n",
       "      <td>2007</td>\n",
       "      <td>9600</td>\n",
       "      <td>80.0</td>\n",
       "      <td>1976</td>\n",
       "    </tr>\n",
       "    <tr>\n",
       "      <th>2</th>\n",
       "      <td>223500</td>\n",
       "      <td>7</td>\n",
       "      <td>5</td>\n",
       "      <td>608</td>\n",
       "      <td>2008</td>\n",
       "      <td>11250</td>\n",
       "      <td>68.0</td>\n",
       "      <td>2001</td>\n",
       "    </tr>\n",
       "    <tr>\n",
       "      <th>3</th>\n",
       "      <td>140000</td>\n",
       "      <td>7</td>\n",
       "      <td>5</td>\n",
       "      <td>642</td>\n",
       "      <td>2006</td>\n",
       "      <td>9550</td>\n",
       "      <td>60.0</td>\n",
       "      <td>1915</td>\n",
       "    </tr>\n",
       "    <tr>\n",
       "      <th>4</th>\n",
       "      <td>250000</td>\n",
       "      <td>8</td>\n",
       "      <td>5</td>\n",
       "      <td>836</td>\n",
       "      <td>2008</td>\n",
       "      <td>14260</td>\n",
       "      <td>84.0</td>\n",
       "      <td>2000</td>\n",
       "    </tr>\n",
       "  </tbody>\n",
       "</table>\n",
       "</div>"
      ],
      "text/plain": [
       "   SalePrice  OverallQual  OverallCond  GarageArea  YrSold  LotArea  \\\n",
       "0     208500            7            5         548    2008     8450   \n",
       "1     181500            6            8         460    2007     9600   \n",
       "2     223500            7            5         608    2008    11250   \n",
       "3     140000            7            5         642    2006     9550   \n",
       "4     250000            8            5         836    2008    14260   \n",
       "\n",
       "   LotFrontage  YearBuilt  \n",
       "0         65.0       2003  \n",
       "1         80.0       1976  \n",
       "2         68.0       2001  \n",
       "3         60.0       1915  \n",
       "4         84.0       2000  "
      ]
     },
     "execution_count": 16,
     "metadata": {},
     "output_type": "execute_result"
    }
   ],
   "source": [
    "# Features we'll look at:\n",
    "# OverallQual: Rates the overall material and finish of the house\n",
    "# OverallCond: Rates the overall condition of the house\n",
    "# GarageArea: Size of garage in square feet\n",
    "# YrSold: Year Sold (YYYY)\n",
    "# LotFrontage: Linear feet of street connected to property\n",
    "# LotArea: Lot size in square feet\n",
    "# YearBuilt: Original construction date\n",
    "\n",
    "data_subset = data[[\"SalePrice\", \"OverallQual\", \"OverallCond\", \"GarageArea\", \n",
    "              \"YrSold\", \"LotArea\", \"LotFrontage\", \"YearBuilt\"]]\n",
    "data_subset.head()"
   ]
  },
  {
   "cell_type": "markdown",
   "metadata": {},
   "source": [
    "Okay, so let's begin some exploratory analysis. We'll start by using `matplotlib` to create some histograms to examine the marginal distributions of each variable."
   ]
  },
  {
   "cell_type": "code",
   "execution_count": 17,
   "metadata": {
    "collapsed": true
   },
   "outputs": [],
   "source": [
    "import matplotlib.pyplot as plt\n",
    "%matplotlib inline \n",
    "#^this is a magic function in IPython. Don't worry about it, it's not really that interesting."
   ]
  },
  {
   "cell_type": "code",
   "execution_count": 18,
   "metadata": {
    "collapsed": false
   },
   "outputs": [
    {
     "data": {
      "image/png": "[encoded data removed]",
      "text/plain": [
       "<matplotlib.figure.Figure at 0x1bcea02b668>"
      ]
     },
     "metadata": {},
     "output_type": "display_data"
    }
   ],
   "source": [
    "plt.hist(data_subset[\"SalePrice\"], bins=100)\n",
    "plt.title(\"Marginal Distribution of Sale Price\")\n",
    "plt.xlabel(\"Sale Price (Dollars)\")\n",
    "plt.ylabel(\"Count\")\n",
    "plt.show()"
   ]
  },
  {
   "cell_type": "code",
   "execution_count": 19,
   "metadata": {
    "collapsed": false
   },
   "outputs": [
    {
     "data": {
      "image/png": "[encoded data removed]",
      "text/plain": [
       "<matplotlib.figure.Figure at 0x1bcea557518>"
      ]
     },
     "metadata": {},
     "output_type": "display_data"
    }
   ],
   "source": [
    "x = np.log(data_subset[\"SalePrice\"])\n",
    "mu = np.mean(x)\n",
    "sigma = np.std(x)\n",
    "n = len(x)\n",
    "plt.hist(np.random.normal(mu, sigma, size=n), \n",
    "         alpha=0.5, \n",
    "         color = \"blue\",\n",
    "         bins=100)\n",
    "plt.hist(x, \n",
    "         alpha=0.5, \n",
    "         bins=100,\n",
    "        color=\"#229911\")\n",
    "plt.show()"
   ]
  },
  {
   "cell_type": "markdown",
   "metadata": {},
   "source": [
    "To create a new column, you can use the following syntax.\n",
    "\n",
    "The `loc=0` keyword denotes the order that the columns appear. The other columns just get shoved aside."
   ]
  },
  {
   "cell_type": "code",
   "execution_count": 20,
   "metadata": {
    "collapsed": false
   },
   "outputs": [
    {
     "data": {
      "text/html": [
       "<div>\n",
       "<style>\n",
       "    .dataframe thead tr:only-child th {\n",
       "        text-align: right;\n",
       "    }\n",
       "\n",
       "    .dataframe thead th {\n",
       "        text-align: left;\n",
       "    }\n",
       "\n",
       "    .dataframe tbody tr th {\n",
       "        vertical-align: top;\n",
       "    }\n",
       "</style>\n",
       "<table border=\"1\" class=\"dataframe\">\n",
       "  <thead>\n",
       "    <tr style=\"text-align: right;\">\n",
       "      <th></th>\n",
       "      <th>LogSalePrice</th>\n",
       "      <th>SalePrice</th>\n",
       "      <th>OverallQual</th>\n",
       "      <th>OverallCond</th>\n",
       "      <th>GarageArea</th>\n",
       "      <th>YrSold</th>\n",
       "      <th>LotArea</th>\n",
       "      <th>LotFrontage</th>\n",
       "      <th>YearBuilt</th>\n",
       "    </tr>\n",
       "  </thead>\n",
       "  <tbody>\n",
       "    <tr>\n",
       "      <th>0</th>\n",
       "      <td>12.247694</td>\n",
       "      <td>208500</td>\n",
       "      <td>7</td>\n",
       "      <td>5</td>\n",
       "      <td>548</td>\n",
       "      <td>2008</td>\n",
       "      <td>8450</td>\n",
       "      <td>65.0</td>\n",
       "      <td>2003</td>\n",
       "    </tr>\n",
       "    <tr>\n",
       "      <th>1</th>\n",
       "      <td>12.109011</td>\n",
       "      <td>181500</td>\n",
       "      <td>6</td>\n",
       "      <td>8</td>\n",
       "      <td>460</td>\n",
       "      <td>2007</td>\n",
       "      <td>9600</td>\n",
       "      <td>80.0</td>\n",
       "      <td>1976</td>\n",
       "    </tr>\n",
       "    <tr>\n",
       "      <th>2</th>\n",
       "      <td>12.317167</td>\n",
       "      <td>223500</td>\n",
       "      <td>7</td>\n",
       "      <td>5</td>\n",
       "      <td>608</td>\n",
       "      <td>2008</td>\n",
       "      <td>11250</td>\n",
       "      <td>68.0</td>\n",
       "      <td>2001</td>\n",
       "    </tr>\n",
       "    <tr>\n",
       "      <th>3</th>\n",
       "      <td>11.849398</td>\n",
       "      <td>140000</td>\n",
       "      <td>7</td>\n",
       "      <td>5</td>\n",
       "      <td>642</td>\n",
       "      <td>2006</td>\n",
       "      <td>9550</td>\n",
       "      <td>60.0</td>\n",
       "      <td>1915</td>\n",
       "    </tr>\n",
       "    <tr>\n",
       "      <th>4</th>\n",
       "      <td>12.429216</td>\n",
       "      <td>250000</td>\n",
       "      <td>8</td>\n",
       "      <td>5</td>\n",
       "      <td>836</td>\n",
       "      <td>2008</td>\n",
       "      <td>14260</td>\n",
       "      <td>84.0</td>\n",
       "      <td>2000</td>\n",
       "    </tr>\n",
       "  </tbody>\n",
       "</table>\n",
       "</div>"
      ],
      "text/plain": [
       "   LogSalePrice  SalePrice  OverallQual  OverallCond  GarageArea  YrSold  \\\n",
       "0     12.247694     208500            7            5         548    2008   \n",
       "1     12.109011     181500            6            8         460    2007   \n",
       "2     12.317167     223500            7            5         608    2008   \n",
       "3     11.849398     140000            7            5         642    2006   \n",
       "4     12.429216     250000            8            5         836    2008   \n",
       "\n",
       "   LotArea  LotFrontage  YearBuilt  \n",
       "0     8450         65.0       2003  \n",
       "1     9600         80.0       1976  \n",
       "2    11250         68.0       2001  \n",
       "3     9550         60.0       1915  \n",
       "4    14260         84.0       2000  "
      ]
     },
     "execution_count": 20,
     "metadata": {},
     "output_type": "execute_result"
    }
   ],
   "source": [
    "data_subset.insert(loc=0, column=\"LogSalePrice\", value=np.log(data_subset[\"SalePrice\"]))\n",
    "data_subset.head()"
   ]
  },
  {
   "cell_type": "code",
   "execution_count": 21,
   "metadata": {
    "collapsed": false
   },
   "outputs": [
    {
     "data": {
      "image/png": "[encoded data removed]",
      "text/plain": [
       "<matplotlib.figure.Figure at 0x1bce9e185c0>"
      ]
     },
     "metadata": {},
     "output_type": "display_data"
    }
   ],
   "source": [
    "plt.scatter(data_subset[\"GarageArea\"], data_subset[\"LogSalePrice\"])\n",
    "plt.title(\"Garage Area X Sale Price\")\n",
    "plt.xlabel(\"Garage Area\")\n",
    "plt.show()"
   ]
  },
  {
   "cell_type": "code",
   "execution_count": 22,
   "metadata": {
    "collapsed": true
   },
   "outputs": [],
   "source": [
    "# Quiz: \n",
    "# Add a column HasGarage which is True IFF the house has a garage\n",
    "# data_subset.insert(loc=9, column=\"HasGarage\", \n",
    "#                    value=data_subset[\"GarageArea\"] > 0)"
   ]
  },
  {
   "cell_type": "markdown",
   "metadata": {},
   "source": [
    "Visualizations aren't really the focus of this talk, so I won't dwell on matplotlib."
   ]
  },
  {
   "cell_type": "markdown",
   "metadata": {},
   "source": [
    "Before we can begin modeling, we ought to take a cursory glance at our data - some of our features have lots of missing values. Particularly `LotFrontage`.\n",
    "\n",
    "NumPy has a sentinel value \"NaN\" (not a number) to indicate missing values. If you want to test for missing values, use `np.isnan`, because equality testing for `np.nan` will fail."
   ]
  },
  {
   "cell_type": "code",
   "execution_count": 23,
   "metadata": {
    "collapsed": false
   },
   "outputs": [
    {
     "name": "stdout",
     "output_type": "stream",
     "text": [
      "LotFrontage 259\n"
     ]
    }
   ],
   "source": [
    "for col in data_subset.columns:\n",
    "    numnan = sum(np.isnan(data_subset[col]))\n",
    "    if numnan > 0:\n",
    "        print (col, numnan)"
   ]
  },
  {
   "cell_type": "markdown",
   "metadata": {},
   "source": [
    "So what do we do with features where we've got missing values? \n",
    "\n",
    "Ideas:\n",
    "* Ditch the feature entirely\n",
    "* Drop rows where values are missing\n",
    "* Replace the missing values\n",
    "\n",
    "For pedagogical purposes, you'll see how each of these can be done in pandas."
   ]
  },
  {
   "cell_type": "code",
   "execution_count": 24,
   "metadata": {
    "collapsed": false
   },
   "outputs": [
    {
     "name": "stdout",
     "output_type": "stream",
     "text": [
      "(1460, 7)\n"
     ]
    },
    {
     "data": {
      "text/html": [
       "<div>\n",
       "<style>\n",
       "    .dataframe thead tr:only-child th {\n",
       "        text-align: right;\n",
       "    }\n",
       "\n",
       "    .dataframe thead th {\n",
       "        text-align: left;\n",
       "    }\n",
       "\n",
       "    .dataframe tbody tr th {\n",
       "        vertical-align: top;\n",
       "    }\n",
       "</style>\n",
       "<table border=\"1\" class=\"dataframe\">\n",
       "  <thead>\n",
       "    <tr style=\"text-align: right;\">\n",
       "      <th></th>\n",
       "      <th>SalePrice</th>\n",
       "      <th>OverallQual</th>\n",
       "      <th>OverallCond</th>\n",
       "      <th>GarageArea</th>\n",
       "      <th>YrSold</th>\n",
       "      <th>LotFrontage</th>\n",
       "      <th>YearBuilt</th>\n",
       "    </tr>\n",
       "  </thead>\n",
       "  <tbody>\n",
       "    <tr>\n",
       "      <th>0</th>\n",
       "      <td>208500</td>\n",
       "      <td>7</td>\n",
       "      <td>5</td>\n",
       "      <td>548</td>\n",
       "      <td>2008</td>\n",
       "      <td>65.0</td>\n",
       "      <td>2003</td>\n",
       "    </tr>\n",
       "    <tr>\n",
       "      <th>1</th>\n",
       "      <td>181500</td>\n",
       "      <td>6</td>\n",
       "      <td>8</td>\n",
       "      <td>460</td>\n",
       "      <td>2007</td>\n",
       "      <td>80.0</td>\n",
       "      <td>1976</td>\n",
       "    </tr>\n",
       "    <tr>\n",
       "      <th>2</th>\n",
       "      <td>223500</td>\n",
       "      <td>7</td>\n",
       "      <td>5</td>\n",
       "      <td>608</td>\n",
       "      <td>2008</td>\n",
       "      <td>68.0</td>\n",
       "      <td>2001</td>\n",
       "    </tr>\n",
       "    <tr>\n",
       "      <th>3</th>\n",
       "      <td>140000</td>\n",
       "      <td>7</td>\n",
       "      <td>5</td>\n",
       "      <td>642</td>\n",
       "      <td>2006</td>\n",
       "      <td>60.0</td>\n",
       "      <td>1915</td>\n",
       "    </tr>\n",
       "    <tr>\n",
       "      <th>4</th>\n",
       "      <td>250000</td>\n",
       "      <td>8</td>\n",
       "      <td>5</td>\n",
       "      <td>836</td>\n",
       "      <td>2008</td>\n",
       "      <td>84.0</td>\n",
       "      <td>2000</td>\n",
       "    </tr>\n",
       "  </tbody>\n",
       "</table>\n",
       "</div>"
      ],
      "text/plain": [
       "   SalePrice  OverallQual  OverallCond  GarageArea  YrSold  LotFrontage  \\\n",
       "0     208500            7            5         548    2008         65.0   \n",
       "1     181500            6            8         460    2007         80.0   \n",
       "2     223500            7            5         608    2008         68.0   \n",
       "3     140000            7            5         642    2006         60.0   \n",
       "4     250000            8            5         836    2008         84.0   \n",
       "\n",
       "   YearBuilt  \n",
       "0       2003  \n",
       "1       1976  \n",
       "2       2001  \n",
       "3       1915  \n",
       "4       2000  "
      ]
     },
     "execution_count": 24,
     "metadata": {},
     "output_type": "execute_result"
    }
   ],
   "source": [
    "# What to do with missing values?\n",
    "\n",
    "# 1. Ditch the feature entirely\n",
    "data_feature_ditched = data_subset[[\"SalePrice\", \"OverallQual\", \"OverallCond\", \"GarageArea\", \n",
    "              \"YrSold\", \"LotFrontage\", \"YearBuilt\"]]\n",
    "print (data_feature_ditched.shape)\n",
    "data_feature_ditched.head()"
   ]
  },
  {
   "cell_type": "markdown",
   "metadata": {},
   "source": [
    "That works, but it's pretty gross. \n",
    "\n",
    "Luckily, the pandas dataframe has this nice \"drop\" method, which returns a new dataframe.\n",
    "\n",
    "The `axis=1` argument specifies that we're dropping the *column* named \"LotFrontage\", not that we're dropping a row named \"LotFrontage.\""
   ]
  },
  {
   "cell_type": "code",
   "execution_count": 25,
   "metadata": {
    "collapsed": false
   },
   "outputs": [
    {
     "name": "stdout",
     "output_type": "stream",
     "text": [
      "(1460, 8)\n"
     ]
    },
    {
     "data": {
      "text/html": [
       "<div>\n",
       "<style>\n",
       "    .dataframe thead tr:only-child th {\n",
       "        text-align: right;\n",
       "    }\n",
       "\n",
       "    .dataframe thead th {\n",
       "        text-align: left;\n",
       "    }\n",
       "\n",
       "    .dataframe tbody tr th {\n",
       "        vertical-align: top;\n",
       "    }\n",
       "</style>\n",
       "<table border=\"1\" class=\"dataframe\">\n",
       "  <thead>\n",
       "    <tr style=\"text-align: right;\">\n",
       "      <th></th>\n",
       "      <th>LogSalePrice</th>\n",
       "      <th>SalePrice</th>\n",
       "      <th>OverallQual</th>\n",
       "      <th>OverallCond</th>\n",
       "      <th>GarageArea</th>\n",
       "      <th>YrSold</th>\n",
       "      <th>LotArea</th>\n",
       "      <th>YearBuilt</th>\n",
       "    </tr>\n",
       "  </thead>\n",
       "  <tbody>\n",
       "    <tr>\n",
       "      <th>0</th>\n",
       "      <td>12.247694</td>\n",
       "      <td>208500</td>\n",
       "      <td>7</td>\n",
       "      <td>5</td>\n",
       "      <td>548</td>\n",
       "      <td>2008</td>\n",
       "      <td>8450</td>\n",
       "      <td>2003</td>\n",
       "    </tr>\n",
       "    <tr>\n",
       "      <th>1</th>\n",
       "      <td>12.109011</td>\n",
       "      <td>181500</td>\n",
       "      <td>6</td>\n",
       "      <td>8</td>\n",
       "      <td>460</td>\n",
       "      <td>2007</td>\n",
       "      <td>9600</td>\n",
       "      <td>1976</td>\n",
       "    </tr>\n",
       "    <tr>\n",
       "      <th>2</th>\n",
       "      <td>12.317167</td>\n",
       "      <td>223500</td>\n",
       "      <td>7</td>\n",
       "      <td>5</td>\n",
       "      <td>608</td>\n",
       "      <td>2008</td>\n",
       "      <td>11250</td>\n",
       "      <td>2001</td>\n",
       "    </tr>\n",
       "    <tr>\n",
       "      <th>3</th>\n",
       "      <td>11.849398</td>\n",
       "      <td>140000</td>\n",
       "      <td>7</td>\n",
       "      <td>5</td>\n",
       "      <td>642</td>\n",
       "      <td>2006</td>\n",
       "      <td>9550</td>\n",
       "      <td>1915</td>\n",
       "    </tr>\n",
       "    <tr>\n",
       "      <th>4</th>\n",
       "      <td>12.429216</td>\n",
       "      <td>250000</td>\n",
       "      <td>8</td>\n",
       "      <td>5</td>\n",
       "      <td>836</td>\n",
       "      <td>2008</td>\n",
       "      <td>14260</td>\n",
       "      <td>2000</td>\n",
       "    </tr>\n",
       "  </tbody>\n",
       "</table>\n",
       "</div>"
      ],
      "text/plain": [
       "   LogSalePrice  SalePrice  OverallQual  OverallCond  GarageArea  YrSold  \\\n",
       "0     12.247694     208500            7            5         548    2008   \n",
       "1     12.109011     181500            6            8         460    2007   \n",
       "2     12.317167     223500            7            5         608    2008   \n",
       "3     11.849398     140000            7            5         642    2006   \n",
       "4     12.429216     250000            8            5         836    2008   \n",
       "\n",
       "   LotArea  YearBuilt  \n",
       "0     8450       2003  \n",
       "1     9600       1976  \n",
       "2    11250       2001  \n",
       "3     9550       1915  \n",
       "4    14260       2000  "
      ]
     },
     "execution_count": 25,
     "metadata": {},
     "output_type": "execute_result"
    }
   ],
   "source": [
    "# 1 (Cont'd) \n",
    "\n",
    "data_ditched = data_subset.drop(\"LotFrontage\", axis=1)\n",
    "print (data_ditched.shape)\n",
    "data_ditched.head()"
   ]
  },
  {
   "cell_type": "markdown",
   "metadata": {},
   "source": [
    "If you want to limit your analysis to data where there are no missing values, you could do this like so.\n",
    "\n",
    "Recall how `np.isnan` gets vectorized.\n",
    "\n",
    "# SHOULD I MAKE THIS A QUIZ?"
   ]
  },
  {
   "cell_type": "code",
   "execution_count": 26,
   "metadata": {
    "collapsed": false
   },
   "outputs": [
    {
     "name": "stdout",
     "output_type": "stream",
     "text": [
      "(1201, 9)\n"
     ]
    },
    {
     "data": {
      "text/html": [
       "<div>\n",
       "<style>\n",
       "    .dataframe thead tr:only-child th {\n",
       "        text-align: right;\n",
       "    }\n",
       "\n",
       "    .dataframe thead th {\n",
       "        text-align: left;\n",
       "    }\n",
       "\n",
       "    .dataframe tbody tr th {\n",
       "        vertical-align: top;\n",
       "    }\n",
       "</style>\n",
       "<table border=\"1\" class=\"dataframe\">\n",
       "  <thead>\n",
       "    <tr style=\"text-align: right;\">\n",
       "      <th></th>\n",
       "      <th>LogSalePrice</th>\n",
       "      <th>SalePrice</th>\n",
       "      <th>OverallQual</th>\n",
       "      <th>OverallCond</th>\n",
       "      <th>GarageArea</th>\n",
       "      <th>YrSold</th>\n",
       "      <th>LotArea</th>\n",
       "      <th>LotFrontage</th>\n",
       "      <th>YearBuilt</th>\n",
       "    </tr>\n",
       "  </thead>\n",
       "  <tbody>\n",
       "    <tr>\n",
       "      <th>0</th>\n",
       "      <td>12.247694</td>\n",
       "      <td>208500</td>\n",
       "      <td>7</td>\n",
       "      <td>5</td>\n",
       "      <td>548</td>\n",
       "      <td>2008</td>\n",
       "      <td>8450</td>\n",
       "      <td>65.0</td>\n",
       "      <td>2003</td>\n",
       "    </tr>\n",
       "    <tr>\n",
       "      <th>1</th>\n",
       "      <td>12.109011</td>\n",
       "      <td>181500</td>\n",
       "      <td>6</td>\n",
       "      <td>8</td>\n",
       "      <td>460</td>\n",
       "      <td>2007</td>\n",
       "      <td>9600</td>\n",
       "      <td>80.0</td>\n",
       "      <td>1976</td>\n",
       "    </tr>\n",
       "    <tr>\n",
       "      <th>2</th>\n",
       "      <td>12.317167</td>\n",
       "      <td>223500</td>\n",
       "      <td>7</td>\n",
       "      <td>5</td>\n",
       "      <td>608</td>\n",
       "      <td>2008</td>\n",
       "      <td>11250</td>\n",
       "      <td>68.0</td>\n",
       "      <td>2001</td>\n",
       "    </tr>\n",
       "    <tr>\n",
       "      <th>3</th>\n",
       "      <td>11.849398</td>\n",
       "      <td>140000</td>\n",
       "      <td>7</td>\n",
       "      <td>5</td>\n",
       "      <td>642</td>\n",
       "      <td>2006</td>\n",
       "      <td>9550</td>\n",
       "      <td>60.0</td>\n",
       "      <td>1915</td>\n",
       "    </tr>\n",
       "    <tr>\n",
       "      <th>4</th>\n",
       "      <td>12.429216</td>\n",
       "      <td>250000</td>\n",
       "      <td>8</td>\n",
       "      <td>5</td>\n",
       "      <td>836</td>\n",
       "      <td>2008</td>\n",
       "      <td>14260</td>\n",
       "      <td>84.0</td>\n",
       "      <td>2000</td>\n",
       "    </tr>\n",
       "  </tbody>\n",
       "</table>\n",
       "</div>"
      ],
      "text/plain": [
       "   LogSalePrice  SalePrice  OverallQual  OverallCond  GarageArea  YrSold  \\\n",
       "0     12.247694     208500            7            5         548    2008   \n",
       "1     12.109011     181500            6            8         460    2007   \n",
       "2     12.317167     223500            7            5         608    2008   \n",
       "3     11.849398     140000            7            5         642    2006   \n",
       "4     12.429216     250000            8            5         836    2008   \n",
       "\n",
       "   LotArea  LotFrontage  YearBuilt  \n",
       "0     8450         65.0       2003  \n",
       "1     9600         80.0       1976  \n",
       "2    11250         68.0       2001  \n",
       "3     9550         60.0       1915  \n",
       "4    14260         84.0       2000  "
      ]
     },
     "execution_count": 26,
     "metadata": {},
     "output_type": "execute_result"
    }
   ],
   "source": [
    "# 2. Ditch rows where values are missing\n",
    "\n",
    "# np.isnan(data): returns a new dataframe of bools\n",
    "# np.sum(data, axis=1): returns the sum of ROWS of the input dataframe (axis = 0 would be columns)\n",
    "data_clean = data_subset[~np.isnan(data_subset[\"LotFrontage\"])]\n",
    "print (data_clean.shape)\n",
    "data_clean.head()"
   ]
  },
  {
   "cell_type": "code",
   "execution_count": 27,
   "metadata": {
    "collapsed": false
   },
   "outputs": [
    {
     "name": "stdout",
     "output_type": "stream",
     "text": [
      "Int64Index([   0,    1,    2,    3,    4,    5,    6,    8,    9,   10,\n",
      "            ...\n",
      "            1450, 1451, 1452, 1453, 1454, 1455, 1456, 1457, 1458, 1459],\n",
      "           dtype='int64', length=1201)\n",
      "RangeIndex(start=0, stop=1201, step=1)\n"
     ]
    }
   ],
   "source": [
    "print (data_clean.index) # this COULD get confusing down the line, but it's not really a big deal.\n",
    "data_clean = data_clean.reset_index()\n",
    "print (data_clean.index) "
   ]
  },
  {
   "cell_type": "code",
   "execution_count": 28,
   "metadata": {
    "collapsed": false
   },
   "outputs": [
    {
     "name": "stdout",
     "output_type": "stream",
     "text": [
      "(1201, 9)\n",
      "1200\n"
     ]
    },
    {
     "data": {
      "text/html": [
       "<div>\n",
       "<style>\n",
       "    .dataframe thead tr:only-child th {\n",
       "        text-align: right;\n",
       "    }\n",
       "\n",
       "    .dataframe thead th {\n",
       "        text-align: left;\n",
       "    }\n",
       "\n",
       "    .dataframe tbody tr th {\n",
       "        vertical-align: top;\n",
       "    }\n",
       "</style>\n",
       "<table border=\"1\" class=\"dataframe\">\n",
       "  <thead>\n",
       "    <tr style=\"text-align: right;\">\n",
       "      <th></th>\n",
       "      <th>index</th>\n",
       "      <th>LogSalePrice</th>\n",
       "      <th>SalePrice</th>\n",
       "      <th>OverallQual</th>\n",
       "      <th>OverallCond</th>\n",
       "      <th>GarageArea</th>\n",
       "      <th>YrSold</th>\n",
       "      <th>LotArea</th>\n",
       "      <th>LotFrontage</th>\n",
       "      <th>YearBuilt</th>\n",
       "    </tr>\n",
       "  </thead>\n",
       "  <tbody>\n",
       "    <tr>\n",
       "      <th>0</th>\n",
       "      <td>0</td>\n",
       "      <td>12.247694</td>\n",
       "      <td>208500</td>\n",
       "      <td>7</td>\n",
       "      <td>5</td>\n",
       "      <td>548</td>\n",
       "      <td>2008</td>\n",
       "      <td>8450</td>\n",
       "      <td>65.0</td>\n",
       "      <td>2003</td>\n",
       "    </tr>\n",
       "    <tr>\n",
       "      <th>1</th>\n",
       "      <td>1</td>\n",
       "      <td>12.109011</td>\n",
       "      <td>181500</td>\n",
       "      <td>6</td>\n",
       "      <td>8</td>\n",
       "      <td>460</td>\n",
       "      <td>2007</td>\n",
       "      <td>9600</td>\n",
       "      <td>80.0</td>\n",
       "      <td>1976</td>\n",
       "    </tr>\n",
       "    <tr>\n",
       "      <th>2</th>\n",
       "      <td>2</td>\n",
       "      <td>12.317167</td>\n",
       "      <td>223500</td>\n",
       "      <td>7</td>\n",
       "      <td>5</td>\n",
       "      <td>608</td>\n",
       "      <td>2008</td>\n",
       "      <td>11250</td>\n",
       "      <td>68.0</td>\n",
       "      <td>2001</td>\n",
       "    </tr>\n",
       "    <tr>\n",
       "      <th>3</th>\n",
       "      <td>3</td>\n",
       "      <td>11.849398</td>\n",
       "      <td>140000</td>\n",
       "      <td>7</td>\n",
       "      <td>5</td>\n",
       "      <td>642</td>\n",
       "      <td>2006</td>\n",
       "      <td>9550</td>\n",
       "      <td>60.0</td>\n",
       "      <td>1915</td>\n",
       "    </tr>\n",
       "    <tr>\n",
       "      <th>4</th>\n",
       "      <td>4</td>\n",
       "      <td>12.429216</td>\n",
       "      <td>250000</td>\n",
       "      <td>8</td>\n",
       "      <td>5</td>\n",
       "      <td>836</td>\n",
       "      <td>2008</td>\n",
       "      <td>14260</td>\n",
       "      <td>84.0</td>\n",
       "      <td>2000</td>\n",
       "    </tr>\n",
       "  </tbody>\n",
       "</table>\n",
       "</div>"
      ],
      "text/plain": [
       "   index  LogSalePrice  SalePrice  OverallQual  OverallCond  GarageArea  \\\n",
       "0      0     12.247694     208500            7            5         548   \n",
       "1      1     12.109011     181500            6            8         460   \n",
       "2      2     12.317167     223500            7            5         608   \n",
       "3      3     11.849398     140000            7            5         642   \n",
       "4      4     12.429216     250000            8            5         836   \n",
       "\n",
       "   YrSold  LotArea  LotFrontage  YearBuilt  \n",
       "0    2008     8450         65.0       2003  \n",
       "1    2007     9600         80.0       1976  \n",
       "2    2008    11250         68.0       2001  \n",
       "3    2006     9550         60.0       1915  \n",
       "4    2008    14260         84.0       2000  "
      ]
     },
     "execution_count": 28,
     "metadata": {},
     "output_type": "execute_result"
    }
   ],
   "source": [
    "# 2 (cont'd)\n",
    "# More general and pandorable. Maybe I want to check NaNs for lots of rows at once!\n",
    "\n",
    "# data.dropna(how='any')    #to drop if any value in the row has a nan\n",
    "# data.dropna(how='all')    #to drop if all values in the row are nan\n",
    "data_clean = data_subset.dropna(how=\"any\") #dropna returns a new dataframe\n",
    "print (data_clean.shape)\n",
    "data_clean = data_clean.reset_index()\n",
    "print (data_clean.index[-1])\n",
    "data_clean.head()"
   ]
  },
  {
   "cell_type": "code",
   "execution_count": 29,
   "metadata": {
    "collapsed": false
   },
   "outputs": [
    {
     "data": {
      "text/html": [
       "<div>\n",
       "<style>\n",
       "    .dataframe thead tr:only-child th {\n",
       "        text-align: right;\n",
       "    }\n",
       "\n",
       "    .dataframe thead th {\n",
       "        text-align: left;\n",
       "    }\n",
       "\n",
       "    .dataframe tbody tr th {\n",
       "        vertical-align: top;\n",
       "    }\n",
       "</style>\n",
       "<table border=\"1\" class=\"dataframe\">\n",
       "  <thead>\n",
       "    <tr style=\"text-align: right;\">\n",
       "      <th></th>\n",
       "      <th>LogSalePrice</th>\n",
       "      <th>SalePrice</th>\n",
       "      <th>OverallQual</th>\n",
       "      <th>OverallCond</th>\n",
       "      <th>GarageArea</th>\n",
       "      <th>YrSold</th>\n",
       "      <th>LotArea</th>\n",
       "      <th>LotFrontage</th>\n",
       "      <th>YearBuilt</th>\n",
       "    </tr>\n",
       "  </thead>\n",
       "  <tbody>\n",
       "    <tr>\n",
       "      <th>0</th>\n",
       "      <td>12.247694</td>\n",
       "      <td>208500</td>\n",
       "      <td>7</td>\n",
       "      <td>5</td>\n",
       "      <td>548</td>\n",
       "      <td>2008</td>\n",
       "      <td>8450</td>\n",
       "      <td>65.0</td>\n",
       "      <td>2003</td>\n",
       "    </tr>\n",
       "    <tr>\n",
       "      <th>1</th>\n",
       "      <td>12.109011</td>\n",
       "      <td>181500</td>\n",
       "      <td>6</td>\n",
       "      <td>8</td>\n",
       "      <td>460</td>\n",
       "      <td>2007</td>\n",
       "      <td>9600</td>\n",
       "      <td>80.0</td>\n",
       "      <td>1976</td>\n",
       "    </tr>\n",
       "    <tr>\n",
       "      <th>2</th>\n",
       "      <td>12.317167</td>\n",
       "      <td>223500</td>\n",
       "      <td>7</td>\n",
       "      <td>5</td>\n",
       "      <td>608</td>\n",
       "      <td>2008</td>\n",
       "      <td>11250</td>\n",
       "      <td>68.0</td>\n",
       "      <td>2001</td>\n",
       "    </tr>\n",
       "    <tr>\n",
       "      <th>3</th>\n",
       "      <td>11.849398</td>\n",
       "      <td>140000</td>\n",
       "      <td>7</td>\n",
       "      <td>5</td>\n",
       "      <td>642</td>\n",
       "      <td>2006</td>\n",
       "      <td>9550</td>\n",
       "      <td>60.0</td>\n",
       "      <td>1915</td>\n",
       "    </tr>\n",
       "    <tr>\n",
       "      <th>4</th>\n",
       "      <td>12.429216</td>\n",
       "      <td>250000</td>\n",
       "      <td>8</td>\n",
       "      <td>5</td>\n",
       "      <td>836</td>\n",
       "      <td>2008</td>\n",
       "      <td>14260</td>\n",
       "      <td>84.0</td>\n",
       "      <td>2000</td>\n",
       "    </tr>\n",
       "  </tbody>\n",
       "</table>\n",
       "</div>"
      ],
      "text/plain": [
       "   LogSalePrice  SalePrice  OverallQual  OverallCond  GarageArea  YrSold  \\\n",
       "0     12.247694     208500            7            5         548    2008   \n",
       "1     12.109011     181500            6            8         460    2007   \n",
       "2     12.317167     223500            7            5         608    2008   \n",
       "3     11.849398     140000            7            5         642    2006   \n",
       "4     12.429216     250000            8            5         836    2008   \n",
       "\n",
       "   LotArea  LotFrontage  YearBuilt  \n",
       "0     8450         65.0       2003  \n",
       "1     9600         80.0       1976  \n",
       "2    11250         68.0       2001  \n",
       "3     9550         60.0       1915  \n",
       "4    14260         84.0       2000  "
      ]
     },
     "execution_count": 29,
     "metadata": {},
     "output_type": "execute_result"
    }
   ],
   "source": [
    "# 3. Impute missing values\n",
    "# Doing this manually is pretty awful tbh. \n",
    "data_imputed = data_subset.copy()\n",
    "data_imputed = data_imputed.fillna(data_imputed.mean())\n",
    "data_imputed.head()"
   ]
  },
  {
   "cell_type": "code",
   "execution_count": 30,
   "metadata": {
    "collapsed": false
   },
   "outputs": [
    {
     "data": {
      "text/plain": [
       "259"
      ]
     },
     "execution_count": 30,
     "metadata": {},
     "output_type": "execute_result"
    }
   ],
   "source": [
    "pd.isnull(data_subset[\"LotFrontage\"]).sum()"
   ]
  },
  {
   "cell_type": "code",
   "execution_count": 31,
   "metadata": {
    "collapsed": false
   },
   "outputs": [
    {
     "data": {
      "text/plain": [
       "0"
      ]
     },
     "execution_count": 31,
     "metadata": {},
     "output_type": "execute_result"
    }
   ],
   "source": [
    "pd.isnull(data_imputed[\"LotFrontage\"]).sum()"
   ]
  },
  {
   "cell_type": "markdown",
   "metadata": {},
   "source": [
    "### Pandas Aliasing\n",
    "\n",
    "We're pretty fast and loose with pointers here. Here's where we can run into trouble"
   ]
  },
  {
   "cell_type": "code",
   "execution_count": 32,
   "metadata": {
    "collapsed": false
   },
   "outputs": [
    {
     "data": {
      "text/html": [
       "<div>\n",
       "<style>\n",
       "    .dataframe thead tr:only-child th {\n",
       "        text-align: right;\n",
       "    }\n",
       "\n",
       "    .dataframe thead th {\n",
       "        text-align: left;\n",
       "    }\n",
       "\n",
       "    .dataframe tbody tr th {\n",
       "        vertical-align: top;\n",
       "    }\n",
       "</style>\n",
       "<table border=\"1\" class=\"dataframe\">\n",
       "  <thead>\n",
       "    <tr style=\"text-align: right;\">\n",
       "      <th></th>\n",
       "      <th>0</th>\n",
       "      <th>1</th>\n",
       "      <th>2</th>\n",
       "    </tr>\n",
       "  </thead>\n",
       "  <tbody>\n",
       "    <tr>\n",
       "      <th>0</th>\n",
       "      <td>0.105386</td>\n",
       "      <td>0.278027</td>\n",
       "      <td>-0.436343</td>\n",
       "    </tr>\n",
       "    <tr>\n",
       "      <th>1</th>\n",
       "      <td>-2.229758</td>\n",
       "      <td>1.424456</td>\n",
       "      <td>-0.490637</td>\n",
       "    </tr>\n",
       "    <tr>\n",
       "      <th>2</th>\n",
       "      <td>-0.396842</td>\n",
       "      <td>-1.259655</td>\n",
       "      <td>-0.222679</td>\n",
       "    </tr>\n",
       "    <tr>\n",
       "      <th>3</th>\n",
       "      <td>-1.274142</td>\n",
       "      <td>-0.751760</td>\n",
       "      <td>0.507648</td>\n",
       "    </tr>\n",
       "    <tr>\n",
       "      <th>4</th>\n",
       "      <td>0.388535</td>\n",
       "      <td>-0.259318</td>\n",
       "      <td>0.736568</td>\n",
       "    </tr>\n",
       "    <tr>\n",
       "      <th>5</th>\n",
       "      <td>1.208866</td>\n",
       "      <td>0.624173</td>\n",
       "      <td>1.802434</td>\n",
       "    </tr>\n",
       "    <tr>\n",
       "      <th>6</th>\n",
       "      <td>1.046050</td>\n",
       "      <td>0.138581</td>\n",
       "      <td>1.723682</td>\n",
       "    </tr>\n",
       "    <tr>\n",
       "      <th>7</th>\n",
       "      <td>1.165679</td>\n",
       "      <td>0.504651</td>\n",
       "      <td>1.223406</td>\n",
       "    </tr>\n",
       "    <tr>\n",
       "      <th>8</th>\n",
       "      <td>-0.778077</td>\n",
       "      <td>1.264969</td>\n",
       "      <td>-1.239138</td>\n",
       "    </tr>\n",
       "    <tr>\n",
       "      <th>9</th>\n",
       "      <td>0.475801</td>\n",
       "      <td>0.113141</td>\n",
       "      <td>-1.024957</td>\n",
       "    </tr>\n",
       "  </tbody>\n",
       "</table>\n",
       "</div>"
      ],
      "text/plain": [
       "          0         1         2\n",
       "0  0.105386  0.278027 -0.436343\n",
       "1 -2.229758  1.424456 -0.490637\n",
       "2 -0.396842 -1.259655 -0.222679\n",
       "3 -1.274142 -0.751760  0.507648\n",
       "4  0.388535 -0.259318  0.736568\n",
       "5  1.208866  0.624173  1.802434\n",
       "6  1.046050  0.138581  1.723682\n",
       "7  1.165679  0.504651  1.223406\n",
       "8 -0.778077  1.264969 -1.239138\n",
       "9  0.475801  0.113141 -1.024957"
      ]
     },
     "execution_count": 32,
     "metadata": {},
     "output_type": "execute_result"
    }
   ],
   "source": [
    "df = pd.DataFrame(np.random.randn(10,3))\n",
    "df"
   ]
  },
  {
   "cell_type": "code",
   "execution_count": 33,
   "metadata": {
    "collapsed": false
   },
   "outputs": [
    {
     "name": "stdout",
     "output_type": "stream",
     "text": [
      "True\n"
     ]
    }
   ],
   "source": [
    "df2 = df\n",
    "df2[0][0] = df[0][0] + 1\n",
    "print (df2[0][0] == df[0][0]) #Modifying df2 modifies df"
   ]
  },
  {
   "cell_type": "code",
   "execution_count": 34,
   "metadata": {
    "collapsed": false
   },
   "outputs": [
    {
     "name": "stdout",
     "output_type": "stream",
     "text": [
      "False\n"
     ]
    }
   ],
   "source": [
    "df2 = df.copy()\n",
    "df2[0][0] = df[0][0] + 1\n",
    "print (df2[0][0] == df[0][0]) #Fixed"
   ]
  },
  {
   "cell_type": "code",
   "execution_count": 35,
   "metadata": {
    "collapsed": false
   },
   "outputs": [
    {
     "data": {
      "text/plain": [
       "True"
      ]
     },
     "execution_count": 35,
     "metadata": {},
     "output_type": "execute_result"
    }
   ],
   "source": [
    "df3 = df[1]\n",
    "df3[0] = df[1][0] + 1\n",
    "df3[0] == df[1][0] #Oh noes"
   ]
  },
  {
   "cell_type": "code",
   "execution_count": 36,
   "metadata": {
    "collapsed": false
   },
   "outputs": [
    {
     "data": {
      "text/plain": [
       "False"
      ]
     },
     "execution_count": 36,
     "metadata": {},
     "output_type": "execute_result"
    }
   ],
   "source": [
    "df3 = df[1].copy()\n",
    "df3[0] = df[1][0] + 1\n",
    "df3[0] == df[1][0] #fixed"
   ]
  },
  {
   "cell_type": "markdown",
   "metadata": {},
   "source": [
    "## Model Evaluation\n",
    "\n",
    "When we've got lots of data at our disposal, and we want to try out a variety of models, we can do that by partitioning our dataset into two: a *training* and a *test* set. \n",
    "\n",
    "Overfitting is a dangerous phenomenon, especially in more complex models like polynomial regression, but we can use a separate test set to get an unbiased measure of generalization accuracy. "
   ]
  },
  {
   "cell_type": "code",
   "execution_count": 37,
   "metadata": {
    "collapsed": false
   },
   "outputs": [],
   "source": [
    "from sklearn.model_selection import train_test_split\n",
    "\n",
    "features = [\"OverallQual\", \"OverallCond\", \"GarageArea\", \n",
    "              \"YrSold\", \"LotArea\", \"LotFrontage\", \"YearBuilt\"]\n",
    "XTrain, XTest, yTrain, yTest = train_test_split(\n",
    "    data_imputed[features], \n",
    "    data_imputed[\"LogSalePrice\"], \n",
    "    test_size=100)\n",
    "# uppercase X denotes that X is a matrix, and lowercase y denotes a vector"
   ]
  },
  {
   "cell_type": "markdown",
   "metadata": {},
   "source": [
    "In practice, we usually partition into *three* sets, including a third \"validation\" set. We train a bunch of models on training data, then check each's accuracy on our validation set, but if we iterate too much, eventually we'll start to overfit to the test data. \n",
    "\n",
    "So, to get a metric of generalization accuracy that's *independent of data we've seen before*, we only use the test set once to evaluate the accuracy of our final model.\n",
    "\n",
    "Overfitting isn't as much of an issue with simple linear regression, and I can never remember which is which, but if you want to play around with this on your own, I highly recommend you do the following."
   ]
  },
  {
   "cell_type": "code",
   "execution_count": 38,
   "metadata": {
    "collapsed": true
   },
   "outputs": [],
   "source": [
    "#XTest, XVal, yTest, yVal = train_test_split(XTest, yTest, test_size=50)"
   ]
  },
  {
   "cell_type": "markdown",
   "metadata": {},
   "source": [
    "## Modeling in SciKit-Learn\n",
    "\n",
    "Model-fitting in scikit-learn has a very straightforward paradigm to it. "
   ]
  },
  {
   "cell_type": "code",
   "execution_count": 39,
   "metadata": {
    "collapsed": false
   },
   "outputs": [],
   "source": [
    "from sklearn import linear_model \n",
    "\n",
    "# Initialize linear regression object\n",
    "model = linear_model.LinearRegression(fit_intercept=True)\n",
    "\n",
    "# fit your model to training data\n",
    "model.fit(XTrain, yTrain)\n",
    "\n",
    "# Make predictions using the testing set\n",
    "yPreds = model.predict(XTest)"
   ]
  },
  {
   "cell_type": "code",
   "execution_count": 40,
   "metadata": {
    "collapsed": false
   },
   "outputs": [
    {
     "name": "stdout",
     "output_type": "stream",
     "text": [
      "Test R-Squared: 0.751295373521\n",
      "Training R-Squared: 0.771789739823\n"
     ]
    }
   ],
   "source": [
    "from sklearn.metrics import r2_score\n",
    "\n",
    "print (\"Test R-Squared:\", r2_score(y_true = yTest, y_pred = yPreds))\n",
    "print (\"Training R-Squared:\", r2_score(y_true = yTrain, y_pred = model.predict(XTrain)))"
   ]
  },
  {
   "cell_type": "markdown",
   "metadata": {},
   "source": [
    "You can use the `coef_` and `intercept_` attributes of your model object to examine the fitted coefficients of your model. \n",
    "\n",
    "Hypothesis testing isn't supported by Scikit Learn, but scipy does."
   ]
  },
  {
   "cell_type": "code",
   "execution_count": 41,
   "metadata": {
    "collapsed": false
   },
   "outputs": [
    {
     "name": "stdout",
     "output_type": "stream",
     "text": [
      "OverallQual 0.163013658938\n",
      "OverallCond 0.0447437830666\n",
      "GarageArea 0.000381184306222\n",
      "YrSold -0.00584970822468\n",
      "LotArea 5.08959226712e-06\n",
      "LotFrontage 0.00156809881549\n",
      "YearBuilt 0.00265225206393\n",
      "Intercept 16.953524954\n"
     ]
    }
   ],
   "source": [
    "for i in range(len(features)):\n",
    "    print (features[i], model.coef_[i])\n",
    "    \n",
    "print (\"Intercept\", model.intercept_)"
   ]
  },
  {
   "cell_type": "code",
   "execution_count": 42,
   "metadata": {
    "collapsed": false
   },
   "outputs": [
    {
     "data": {
      "image/png": "[encoded data removed]",
      "text/plain": [
       "<matplotlib.figure.Figure at 0x1bceac62b70>"
      ]
     },
     "metadata": {},
     "output_type": "display_data"
    }
   ],
   "source": [
    "plt.scatter(yPreds, yPreds - yTest)\n",
    "plt.xlabel(\"Predicted Log of Sale Price\")\n",
    "plt.ylabel(\"Residual\")\n",
    "plt.title(\"Residual Plot\")\n",
    "plt.show()"
   ]
  }
 ],
 "metadata": {
  "anaconda-cloud": {},
  "kernelspec": {
   "display_name": "Python [default]",
   "language": "python",
   "name": "python3"
  },
  "language_info": {
   "codemirror_mode": {
    "name": "ipython",
    "version": 3
   },
   "file_extension": ".py",
   "mimetype": "text/x-python",
   "name": "python",
   "nbconvert_exporter": "python",
   "pygments_lexer": "ipython3",
   "version": "3.5.2"
  },
  "name": "numpy-sklearn",
  "notebookId": 180028466381421
 },
 "nbformat": 4,
 "nbformat_minor": 0
}
