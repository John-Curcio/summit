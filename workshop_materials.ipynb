{
 "cells": [
  {
   "cell_type": "markdown",
   "metadata": {},
   "source": [
    "[Kaggle competitions](https://www.kaggle.com/competitions) give you experience working with real-world data to solve important problems, and help you prove your skills to peers and potential employers. There's also a large community with lots of resources, happy to help you learn.\n",
    "\n",
    "\n",
    "# Basic Data Analysis in Python\n",
    "\n",
    "This workshop introduces the basics of using Python for data analysis, specifically packages like NumPy, Pandas, and Scikit-Learn.\n",
    "\n",
    "Throughout, we'll be working with a dataset of home prices in Iowa. This is a fairly common dataset for practicing and testing advanced regression techniques. If you're a real estate mogul or something, and you can model housing prices well, then you could recognize undervalued properties and sell them for their true market value, making a bundle in the process. "
   ]
  },
  {
   "cell_type": "code",
   "execution_count": 1,
   "metadata": {
    "collapsed": true
   },
   "outputs": [],
   "source": [
    "import numpy as np\n",
    "import sklearn as sk"
   ]
  },
  {
   "cell_type": "markdown",
   "metadata": {},
   "source": [
    "We'll start by talking about programming stuff, like vectorization in NumPy. Then we'll load our dataset as a Pandas dataframe and play around with it, with some minor visualization. We'll spend the final 40% of the talk doing some modeling with SciKit-Learn."
   ]
  },
  {
   "cell_type": "markdown",
   "metadata": {},
   "source": [
    "## NumPy"
   ]
  },
  {
   "cell_type": "markdown",
   "metadata": {},
   "source": [
    "### Arrays"
   ]
  },
  {
   "cell_type": "code",
   "execution_count": 2,
   "metadata": {
    "collapsed": false
   },
   "outputs": [
    {
     "name": "stdout",
     "output_type": "stream",
     "text": [
      "[0 1 2 3 4 5 6 7 8 9]\n",
      "[0 1 2 3 4 5 6 7 8 9]\n"
     ]
    }
   ],
   "source": [
    "print (np.array(range(10)))\n",
    "print (np.array([0, 1, 2, 3, 4, 5, 6, 7, 8, 9]))"
   ]
  },
  {
   "cell_type": "markdown",
   "metadata": {},
   "source": [
    "### Vectorization"
   ]
  },
  {
   "cell_type": "code",
   "execution_count": 3,
   "metadata": {
    "collapsed": false
   },
   "outputs": [
    {
     "name": "stdout",
     "output_type": "stream",
     "text": [
      "For loop: 0.31595349311828613\n"
     ]
    }
   ],
   "source": [
    "import time\n",
    "\n",
    "n = 10**6\n",
    "\n",
    "start = time.time()\n",
    "foo = list(range(n))\n",
    "for i in range(len(foo)):\n",
    "    foo[i] = foo[i] + 1\n",
    "end = time.time()\n",
    "print (\"For loop:\", end - start)"
   ]
  },
  {
   "cell_type": "code",
   "execution_count": 4,
   "metadata": {
    "collapsed": false
   },
   "outputs": [
    {
     "name": "stdout",
     "output_type": "stream",
     "text": [
      "0.18413114547729492\n"
     ]
    }
   ],
   "source": [
    "# slightly better: list comprehensions\n",
    "start = time.time()\n",
    "foo = [elem + 1 for elem in foo]\n",
    "end = time.time()\n",
    "print(end - start)"
   ]
  },
  {
   "cell_type": "code",
   "execution_count": 5,
   "metadata": {
    "collapsed": false
   },
   "outputs": [
    {
     "name": "stdout",
     "output_type": "stream",
     "text": [
      "0.0\n"
     ]
    }
   ],
   "source": [
    "foo = np.array(range(n))\n",
    "start = time.time()\n",
    "### vectorized code goes here\n",
    "end = time.time()\n",
    "print(end - start) "
   ]
  },
  {
   "cell_type": "markdown",
   "metadata": {},
   "source": [
    "### Boolean Indexing"
   ]
  },
  {
   "cell_type": "code",
   "execution_count": 6,
   "metadata": {
    "collapsed": false
   },
   "outputs": [
    {
     "name": "stdout",
     "output_type": "stream",
     "text": [
      "[0 1 2 3 4 5 6 7 8 9]\n",
      "[    10     11     12 ..., 999997 999998 999999]\n"
     ]
    }
   ],
   "source": [
    "inds = foo < 10\n",
    "print (foo[inds])\n",
    "print (foo[~inds])"
   ]
  },
  {
   "cell_type": "markdown",
   "metadata": {},
   "source": [
    "# QUIZ: Get a list/array of all the odd elements of foo"
   ]
  },
  {
   "cell_type": "markdown",
   "metadata": {},
   "source": [
    "### Miscellaneous stuff\n",
    "\n",
    "Random number generation is nice."
   ]
  },
  {
   "cell_type": "code",
   "execution_count": 7,
   "metadata": {
    "collapsed": false
   },
   "outputs": [
    {
     "name": "stdout",
     "output_type": "stream",
     "text": [
      "[ 0.97703619  0.3716194   0.41039723  0.93180275  0.34857593]\n",
      "[ 131.2575382     8.30014366  -52.62916248 -237.44592167  -20.13364305]\n",
      "['C' 'D' 'D' 'B' 'B']\n"
     ]
    }
   ],
   "source": [
    "print (np.random.uniform(0, 1, size=5)) #10 draws from Uniform(0, 1)\n",
    "print (np.random.normal(0, 100, size=5)) #10 draws from Normal(0, 100)\n",
    "print (np.random.choice([\"A\", \"B\", \"C\", \"D\"], size=5)) #10 draws with replacement"
   ]
  },
  {
   "cell_type": "markdown",
   "metadata": {},
   "source": [
    "## Pandas"
   ]
  },
  {
   "cell_type": "code",
   "execution_count": 8,
   "metadata": {
    "collapsed": false
   },
   "outputs": [
    {
     "data": {
      "text/html": [
       "<div>\n",
       "<style>\n",
       "    .dataframe thead tr:only-child th {\n",
       "        text-align: right;\n",
       "    }\n",
       "\n",
       "    .dataframe thead th {\n",
       "        text-align: left;\n",
       "    }\n",
       "\n",
       "    .dataframe tbody tr th {\n",
       "        vertical-align: top;\n",
       "    }\n",
       "</style>\n",
       "<table border=\"1\" class=\"dataframe\">\n",
       "  <thead>\n",
       "    <tr style=\"text-align: right;\">\n",
       "      <th></th>\n",
       "      <th>A</th>\n",
       "      <th>B</th>\n",
       "      <th>C</th>\n",
       "      <th>D</th>\n",
       "    </tr>\n",
       "  </thead>\n",
       "  <tbody>\n",
       "    <tr>\n",
       "      <th>0</th>\n",
       "      <td>0</td>\n",
       "      <td>-0.996083</td>\n",
       "      <td>7</td>\n",
       "      <td>this is a string</td>\n",
       "    </tr>\n",
       "    <tr>\n",
       "      <th>1</th>\n",
       "      <td>1</td>\n",
       "      <td>0.588561</td>\n",
       "      <td>7</td>\n",
       "      <td>this is a string</td>\n",
       "    </tr>\n",
       "    <tr>\n",
       "      <th>2</th>\n",
       "      <td>2</td>\n",
       "      <td>0.523551</td>\n",
       "      <td>7</td>\n",
       "      <td>this is a string</td>\n",
       "    </tr>\n",
       "    <tr>\n",
       "      <th>3</th>\n",
       "      <td>3</td>\n",
       "      <td>-0.051693</td>\n",
       "      <td>7</td>\n",
       "      <td>this is a string</td>\n",
       "    </tr>\n",
       "    <tr>\n",
       "      <th>4</th>\n",
       "      <td>4</td>\n",
       "      <td>-0.006421</td>\n",
       "      <td>7</td>\n",
       "      <td>this is a string</td>\n",
       "    </tr>\n",
       "    <tr>\n",
       "      <th>5</th>\n",
       "      <td>5</td>\n",
       "      <td>-2.999723</td>\n",
       "      <td>7</td>\n",
       "      <td>this is a string</td>\n",
       "    </tr>\n",
       "    <tr>\n",
       "      <th>6</th>\n",
       "      <td>6</td>\n",
       "      <td>0.260666</td>\n",
       "      <td>7</td>\n",
       "      <td>this is a string</td>\n",
       "    </tr>\n",
       "    <tr>\n",
       "      <th>7</th>\n",
       "      <td>7</td>\n",
       "      <td>0.933028</td>\n",
       "      <td>7</td>\n",
       "      <td>this is a string</td>\n",
       "    </tr>\n",
       "    <tr>\n",
       "      <th>8</th>\n",
       "      <td>8</td>\n",
       "      <td>-0.967879</td>\n",
       "      <td>7</td>\n",
       "      <td>this is a string</td>\n",
       "    </tr>\n",
       "    <tr>\n",
       "      <th>9</th>\n",
       "      <td>9</td>\n",
       "      <td>-0.721405</td>\n",
       "      <td>7</td>\n",
       "      <td>this is a string</td>\n",
       "    </tr>\n",
       "  </tbody>\n",
       "</table>\n",
       "</div>"
      ],
      "text/plain": [
       "   A         B  C                 D\n",
       "0  0 -0.996083  7  this is a string\n",
       "1  1  0.588561  7  this is a string\n",
       "2  2  0.523551  7  this is a string\n",
       "3  3 -0.051693  7  this is a string\n",
       "4  4 -0.006421  7  this is a string\n",
       "5  5 -2.999723  7  this is a string\n",
       "6  6  0.260666  7  this is a string\n",
       "7  7  0.933028  7  this is a string\n",
       "8  8 -0.967879  7  this is a string\n",
       "9  9 -0.721405  7  this is a string"
      ]
     },
     "execution_count": 8,
     "metadata": {},
     "output_type": "execute_result"
    }
   ],
   "source": [
    "import pandas as pd\n",
    "\n",
    "df = pd.DataFrame({\n",
    "        \"A\":list(range(10)),\n",
    "        \"B\":np.random.randn(10),\n",
    "        \"C\":7,\n",
    "        \"D\":[\"this is a string\" for i in range(10)]\n",
    "    })\n",
    "\n",
    "df"
   ]
  },
  {
   "cell_type": "code",
   "execution_count": 9,
   "metadata": {
    "collapsed": false
   },
   "outputs": [
    {
     "data": {
      "text/html": [
       "<div>\n",
       "<style>\n",
       "    .dataframe thead tr:only-child th {\n",
       "        text-align: right;\n",
       "    }\n",
       "\n",
       "    .dataframe thead th {\n",
       "        text-align: left;\n",
       "    }\n",
       "\n",
       "    .dataframe tbody tr th {\n",
       "        vertical-align: top;\n",
       "    }\n",
       "</style>\n",
       "<table border=\"1\" class=\"dataframe\">\n",
       "  <thead>\n",
       "    <tr style=\"text-align: right;\">\n",
       "      <th></th>\n",
       "      <th>A</th>\n",
       "      <th>B</th>\n",
       "      <th>C</th>\n",
       "      <th>D</th>\n",
       "    </tr>\n",
       "  </thead>\n",
       "  <tbody>\n",
       "    <tr>\n",
       "      <th>3</th>\n",
       "      <td>3</td>\n",
       "      <td>-0.051693</td>\n",
       "      <td>7</td>\n",
       "      <td>this is a string</td>\n",
       "    </tr>\n",
       "    <tr>\n",
       "      <th>4</th>\n",
       "      <td>4</td>\n",
       "      <td>-0.006421</td>\n",
       "      <td>7</td>\n",
       "      <td>this is a string</td>\n",
       "    </tr>\n",
       "    <tr>\n",
       "      <th>5</th>\n",
       "      <td>5</td>\n",
       "      <td>-2.999723</td>\n",
       "      <td>7</td>\n",
       "      <td>this is a string</td>\n",
       "    </tr>\n",
       "    <tr>\n",
       "      <th>6</th>\n",
       "      <td>6</td>\n",
       "      <td>0.260666</td>\n",
       "      <td>7</td>\n",
       "      <td>this is a string</td>\n",
       "    </tr>\n",
       "  </tbody>\n",
       "</table>\n",
       "</div>"
      ],
      "text/plain": [
       "   A         B  C                 D\n",
       "3  3 -0.051693  7  this is a string\n",
       "4  4 -0.006421  7  this is a string\n",
       "5  5 -2.999723  7  this is a string\n",
       "6  6  0.260666  7  this is a string"
      ]
     },
     "execution_count": 9,
     "metadata": {},
     "output_type": "execute_result"
    }
   ],
   "source": [
    "df.iloc[3:7] #iloc for \"integer location\". Can use this for selecting rows of a dataframe."
   ]
  },
  {
   "cell_type": "code",
   "execution_count": 10,
   "metadata": {
    "collapsed": false
   },
   "outputs": [
    {
     "data": {
      "text/plain": [
       "3   -0.051693\n",
       "4   -0.006421\n",
       "8   -0.967879\n",
       "Name: B, dtype: float64"
      ]
     },
     "execution_count": 10,
     "metadata": {},
     "output_type": "execute_result"
    }
   ],
   "source": [
    "df[\"B\"][[3, 4, 8]]"
   ]
  },
  {
   "cell_type": "code",
   "execution_count": 11,
   "metadata": {
    "collapsed": false
   },
   "outputs": [
    {
     "data": {
      "text/plain": [
       "-0.051692513441025718"
      ]
     },
     "execution_count": 11,
     "metadata": {},
     "output_type": "execute_result"
    }
   ],
   "source": [
    "df[\"B\"][3]"
   ]
  },
  {
   "cell_type": "code",
   "execution_count": 12,
   "metadata": {
    "collapsed": false
   },
   "outputs": [
    {
     "data": {
      "text/html": [
       "<div>\n",
       "<style>\n",
       "    .dataframe thead tr:only-child th {\n",
       "        text-align: right;\n",
       "    }\n",
       "\n",
       "    .dataframe thead th {\n",
       "        text-align: left;\n",
       "    }\n",
       "\n",
       "    .dataframe tbody tr th {\n",
       "        vertical-align: top;\n",
       "    }\n",
       "</style>\n",
       "<table border=\"1\" class=\"dataframe\">\n",
       "  <thead>\n",
       "    <tr style=\"text-align: right;\">\n",
       "      <th></th>\n",
       "      <th>Id</th>\n",
       "      <th>MSSubClass</th>\n",
       "      <th>MSZoning</th>\n",
       "      <th>LotFrontage</th>\n",
       "      <th>LotArea</th>\n",
       "      <th>Street</th>\n",
       "      <th>Alley</th>\n",
       "      <th>LotShape</th>\n",
       "      <th>LandContour</th>\n",
       "      <th>Utilities</th>\n",
       "      <th>...</th>\n",
       "      <th>PoolArea</th>\n",
       "      <th>PoolQC</th>\n",
       "      <th>Fence</th>\n",
       "      <th>MiscFeature</th>\n",
       "      <th>MiscVal</th>\n",
       "      <th>MoSold</th>\n",
       "      <th>YrSold</th>\n",
       "      <th>SaleType</th>\n",
       "      <th>SaleCondition</th>\n",
       "      <th>SalePrice</th>\n",
       "    </tr>\n",
       "  </thead>\n",
       "  <tbody>\n",
       "    <tr>\n",
       "      <th>0</th>\n",
       "      <td>1</td>\n",
       "      <td>60</td>\n",
       "      <td>RL</td>\n",
       "      <td>65.0</td>\n",
       "      <td>8450</td>\n",
       "      <td>Pave</td>\n",
       "      <td>NaN</td>\n",
       "      <td>Reg</td>\n",
       "      <td>Lvl</td>\n",
       "      <td>AllPub</td>\n",
       "      <td>...</td>\n",
       "      <td>0</td>\n",
       "      <td>NaN</td>\n",
       "      <td>NaN</td>\n",
       "      <td>NaN</td>\n",
       "      <td>0</td>\n",
       "      <td>2</td>\n",
       "      <td>2008</td>\n",
       "      <td>WD</td>\n",
       "      <td>Normal</td>\n",
       "      <td>208500</td>\n",
       "    </tr>\n",
       "    <tr>\n",
       "      <th>1</th>\n",
       "      <td>2</td>\n",
       "      <td>20</td>\n",
       "      <td>RL</td>\n",
       "      <td>80.0</td>\n",
       "      <td>9600</td>\n",
       "      <td>Pave</td>\n",
       "      <td>NaN</td>\n",
       "      <td>Reg</td>\n",
       "      <td>Lvl</td>\n",
       "      <td>AllPub</td>\n",
       "      <td>...</td>\n",
       "      <td>0</td>\n",
       "      <td>NaN</td>\n",
       "      <td>NaN</td>\n",
       "      <td>NaN</td>\n",
       "      <td>0</td>\n",
       "      <td>5</td>\n",
       "      <td>2007</td>\n",
       "      <td>WD</td>\n",
       "      <td>Normal</td>\n",
       "      <td>181500</td>\n",
       "    </tr>\n",
       "    <tr>\n",
       "      <th>2</th>\n",
       "      <td>3</td>\n",
       "      <td>60</td>\n",
       "      <td>RL</td>\n",
       "      <td>68.0</td>\n",
       "      <td>11250</td>\n",
       "      <td>Pave</td>\n",
       "      <td>NaN</td>\n",
       "      <td>IR1</td>\n",
       "      <td>Lvl</td>\n",
       "      <td>AllPub</td>\n",
       "      <td>...</td>\n",
       "      <td>0</td>\n",
       "      <td>NaN</td>\n",
       "      <td>NaN</td>\n",
       "      <td>NaN</td>\n",
       "      <td>0</td>\n",
       "      <td>9</td>\n",
       "      <td>2008</td>\n",
       "      <td>WD</td>\n",
       "      <td>Normal</td>\n",
       "      <td>223500</td>\n",
       "    </tr>\n",
       "    <tr>\n",
       "      <th>3</th>\n",
       "      <td>4</td>\n",
       "      <td>70</td>\n",
       "      <td>RL</td>\n",
       "      <td>60.0</td>\n",
       "      <td>9550</td>\n",
       "      <td>Pave</td>\n",
       "      <td>NaN</td>\n",
       "      <td>IR1</td>\n",
       "      <td>Lvl</td>\n",
       "      <td>AllPub</td>\n",
       "      <td>...</td>\n",
       "      <td>0</td>\n",
       "      <td>NaN</td>\n",
       "      <td>NaN</td>\n",
       "      <td>NaN</td>\n",
       "      <td>0</td>\n",
       "      <td>2</td>\n",
       "      <td>2006</td>\n",
       "      <td>WD</td>\n",
       "      <td>Abnorml</td>\n",
       "      <td>140000</td>\n",
       "    </tr>\n",
       "    <tr>\n",
       "      <th>4</th>\n",
       "      <td>5</td>\n",
       "      <td>60</td>\n",
       "      <td>RL</td>\n",
       "      <td>84.0</td>\n",
       "      <td>14260</td>\n",
       "      <td>Pave</td>\n",
       "      <td>NaN</td>\n",
       "      <td>IR1</td>\n",
       "      <td>Lvl</td>\n",
       "      <td>AllPub</td>\n",
       "      <td>...</td>\n",
       "      <td>0</td>\n",
       "      <td>NaN</td>\n",
       "      <td>NaN</td>\n",
       "      <td>NaN</td>\n",
       "      <td>0</td>\n",
       "      <td>12</td>\n",
       "      <td>2008</td>\n",
       "      <td>WD</td>\n",
       "      <td>Normal</td>\n",
       "      <td>250000</td>\n",
       "    </tr>\n",
       "  </tbody>\n",
       "</table>\n",
       "<p>5 rows × 81 columns</p>\n",
       "</div>"
      ],
      "text/plain": [
       "   Id  MSSubClass MSZoning  LotFrontage  LotArea Street Alley LotShape  \\\n",
       "0   1          60       RL         65.0     8450   Pave   NaN      Reg   \n",
       "1   2          20       RL         80.0     9600   Pave   NaN      Reg   \n",
       "2   3          60       RL         68.0    11250   Pave   NaN      IR1   \n",
       "3   4          70       RL         60.0     9550   Pave   NaN      IR1   \n",
       "4   5          60       RL         84.0    14260   Pave   NaN      IR1   \n",
       "\n",
       "  LandContour Utilities    ...     PoolArea PoolQC Fence MiscFeature MiscVal  \\\n",
       "0         Lvl    AllPub    ...            0    NaN   NaN         NaN       0   \n",
       "1         Lvl    AllPub    ...            0    NaN   NaN         NaN       0   \n",
       "2         Lvl    AllPub    ...            0    NaN   NaN         NaN       0   \n",
       "3         Lvl    AllPub    ...            0    NaN   NaN         NaN       0   \n",
       "4         Lvl    AllPub    ...            0    NaN   NaN         NaN       0   \n",
       "\n",
       "  MoSold YrSold  SaleType  SaleCondition  SalePrice  \n",
       "0      2   2008        WD         Normal     208500  \n",
       "1      5   2007        WD         Normal     181500  \n",
       "2      9   2008        WD         Normal     223500  \n",
       "3      2   2006        WD        Abnorml     140000  \n",
       "4     12   2008        WD         Normal     250000  \n",
       "\n",
       "[5 rows x 81 columns]"
      ]
     },
     "execution_count": 12,
     "metadata": {},
     "output_type": "execute_result"
    }
   ],
   "source": [
    "# Kaggle Competition: Predicting housing prices from data about the house\n",
    "# https://www.kaggle.com/c/house-prices-advanced-regression-techniques\n",
    "data = pd.read_csv(\"train.csv\") \n",
    "data.head()"
   ]
  },
  {
   "cell_type": "code",
   "execution_count": 13,
   "metadata": {
    "collapsed": false
   },
   "outputs": [
    {
     "data": {
      "text/html": [
       "<div>\n",
       "<style>\n",
       "    .dataframe thead tr:only-child th {\n",
       "        text-align: right;\n",
       "    }\n",
       "\n",
       "    .dataframe thead th {\n",
       "        text-align: left;\n",
       "    }\n",
       "\n",
       "    .dataframe tbody tr th {\n",
       "        vertical-align: top;\n",
       "    }\n",
       "</style>\n",
       "<table border=\"1\" class=\"dataframe\">\n",
       "  <thead>\n",
       "    <tr style=\"text-align: right;\">\n",
       "      <th></th>\n",
       "      <th>SalePrice</th>\n",
       "      <th>OverallQual</th>\n",
       "      <th>OverallCond</th>\n",
       "      <th>GarageArea</th>\n",
       "      <th>YrSold</th>\n",
       "      <th>LotArea</th>\n",
       "      <th>LotFrontage</th>\n",
       "      <th>YearBuilt</th>\n",
       "    </tr>\n",
       "  </thead>\n",
       "  <tbody>\n",
       "    <tr>\n",
       "      <th>0</th>\n",
       "      <td>208500</td>\n",
       "      <td>7</td>\n",
       "      <td>5</td>\n",
       "      <td>548</td>\n",
       "      <td>2008</td>\n",
       "      <td>8450</td>\n",
       "      <td>65.0</td>\n",
       "      <td>2003</td>\n",
       "    </tr>\n",
       "    <tr>\n",
       "      <th>1</th>\n",
       "      <td>181500</td>\n",
       "      <td>6</td>\n",
       "      <td>8</td>\n",
       "      <td>460</td>\n",
       "      <td>2007</td>\n",
       "      <td>9600</td>\n",
       "      <td>80.0</td>\n",
       "      <td>1976</td>\n",
       "    </tr>\n",
       "    <tr>\n",
       "      <th>2</th>\n",
       "      <td>223500</td>\n",
       "      <td>7</td>\n",
       "      <td>5</td>\n",
       "      <td>608</td>\n",
       "      <td>2008</td>\n",
       "      <td>11250</td>\n",
       "      <td>68.0</td>\n",
       "      <td>2001</td>\n",
       "    </tr>\n",
       "    <tr>\n",
       "      <th>3</th>\n",
       "      <td>140000</td>\n",
       "      <td>7</td>\n",
       "      <td>5</td>\n",
       "      <td>642</td>\n",
       "      <td>2006</td>\n",
       "      <td>9550</td>\n",
       "      <td>60.0</td>\n",
       "      <td>1915</td>\n",
       "    </tr>\n",
       "    <tr>\n",
       "      <th>4</th>\n",
       "      <td>250000</td>\n",
       "      <td>8</td>\n",
       "      <td>5</td>\n",
       "      <td>836</td>\n",
       "      <td>2008</td>\n",
       "      <td>14260</td>\n",
       "      <td>84.0</td>\n",
       "      <td>2000</td>\n",
       "    </tr>\n",
       "  </tbody>\n",
       "</table>\n",
       "</div>"
      ],
      "text/plain": [
       "   SalePrice  OverallQual  OverallCond  GarageArea  YrSold  LotArea  \\\n",
       "0     208500            7            5         548    2008     8450   \n",
       "1     181500            6            8         460    2007     9600   \n",
       "2     223500            7            5         608    2008    11250   \n",
       "3     140000            7            5         642    2006     9550   \n",
       "4     250000            8            5         836    2008    14260   \n",
       "\n",
       "   LotFrontage  YearBuilt  \n",
       "0         65.0       2003  \n",
       "1         80.0       1976  \n",
       "2         68.0       2001  \n",
       "3         60.0       1915  \n",
       "4         84.0       2000  "
      ]
     },
     "execution_count": 13,
     "metadata": {},
     "output_type": "execute_result"
    }
   ],
   "source": [
    "# Features we'll look at:\n",
    "# OverallQual: Rates the overall material and finish of the house\n",
    "# OverallCond: Rates the overall condition of the house\n",
    "# GarageArea: Size of garage in square feet\n",
    "# YrSold: Year Sold (YYYY)\n",
    "# LotFrontage: Linear feet of street connected to property\n",
    "# LotArea: Lot size in square feet\n",
    "# YearBuilt: Original construction date\n",
    "\n",
    "data_subset = data[[\"SalePrice\", \"OverallQual\", \"OverallCond\", \"GarageArea\", \n",
    "              \"YrSold\", \"LotArea\", \"LotFrontage\", \"YearBuilt\"]].copy()\n",
    "data_subset.head()"
   ]
  },
  {
   "cell_type": "markdown",
   "metadata": {},
   "source": [
    "## Matplotlib"
   ]
  },
  {
   "cell_type": "code",
   "execution_count": 14,
   "metadata": {
    "collapsed": true
   },
   "outputs": [],
   "source": [
    "import matplotlib.pyplot as plt\n",
    "%matplotlib inline \n",
    "#^this is a magic line for IPython. Don't worry about it, it's not really that interesting."
   ]
  },
  {
   "cell_type": "code",
   "execution_count": 15,
   "metadata": {
    "collapsed": false
   },
   "outputs": [
    {
     "data": {
      "image/png": "[encoded data removed]",
      "text/plain": [
       "<matplotlib.figure.Figure at 0x246a2dad5f8>"
      ]
     },
     "metadata": {},
     "output_type": "display_data"
    }
   ],
   "source": [
    "plt.hist(data_subset[\"SalePrice\"], bins=100)\n",
    "plt.title(\"Marginal Distribution of Sale Price\")\n",
    "plt.xlabel(\"Sale Price (Dollars)\")\n",
    "plt.ylabel(\"Count\")\n",
    "plt.show()"
   ]
  },
  {
   "cell_type": "code",
   "execution_count": 16,
   "metadata": {
    "collapsed": false
   },
   "outputs": [
    {
     "data": {
      "image/png": "[encoded data removed]",
      "text/plain": [
       "<matplotlib.figure.Figure at 0x246a2dad400>"
      ]
     },
     "metadata": {},
     "output_type": "display_data"
    }
   ],
   "source": [
    "x = np.log(data_subset[\"SalePrice\"])\n",
    "mu = np.mean(x)\n",
    "sigma = np.std(x)\n",
    "n = len(x)\n",
    "plt.hist(np.random.normal(loc=mu, scale=sigma, size=n), \n",
    "         alpha=0.5, \n",
    "         color = \"blue\",\n",
    "         bins=100)\n",
    "plt.hist(x, \n",
    "         alpha=0.5, \n",
    "         bins=100,\n",
    "        color=\"#229911\")\n",
    "plt.show()"
   ]
  },
  {
   "cell_type": "markdown",
   "metadata": {},
   "source": [
    "To create a new column, you can use the following syntax."
   ]
  },
  {
   "cell_type": "code",
   "execution_count": 17,
   "metadata": {
    "collapsed": false
   },
   "outputs": [
    {
     "data": {
      "text/html": [
       "<div>\n",
       "<style>\n",
       "    .dataframe thead tr:only-child th {\n",
       "        text-align: right;\n",
       "    }\n",
       "\n",
       "    .dataframe thead th {\n",
       "        text-align: left;\n",
       "    }\n",
       "\n",
       "    .dataframe tbody tr th {\n",
       "        vertical-align: top;\n",
       "    }\n",
       "</style>\n",
       "<table border=\"1\" class=\"dataframe\">\n",
       "  <thead>\n",
       "    <tr style=\"text-align: right;\">\n",
       "      <th></th>\n",
       "      <th>SalePrice</th>\n",
       "      <th>OverallQual</th>\n",
       "      <th>OverallCond</th>\n",
       "      <th>GarageArea</th>\n",
       "      <th>YrSold</th>\n",
       "      <th>LotArea</th>\n",
       "      <th>LotFrontage</th>\n",
       "      <th>YearBuilt</th>\n",
       "      <th>LogSalePrice</th>\n",
       "    </tr>\n",
       "  </thead>\n",
       "  <tbody>\n",
       "    <tr>\n",
       "      <th>0</th>\n",
       "      <td>208500</td>\n",
       "      <td>7</td>\n",
       "      <td>5</td>\n",
       "      <td>548</td>\n",
       "      <td>2008</td>\n",
       "      <td>8450</td>\n",
       "      <td>65.0</td>\n",
       "      <td>2003</td>\n",
       "      <td>12.247694</td>\n",
       "    </tr>\n",
       "    <tr>\n",
       "      <th>1</th>\n",
       "      <td>181500</td>\n",
       "      <td>6</td>\n",
       "      <td>8</td>\n",
       "      <td>460</td>\n",
       "      <td>2007</td>\n",
       "      <td>9600</td>\n",
       "      <td>80.0</td>\n",
       "      <td>1976</td>\n",
       "      <td>12.109011</td>\n",
       "    </tr>\n",
       "    <tr>\n",
       "      <th>2</th>\n",
       "      <td>223500</td>\n",
       "      <td>7</td>\n",
       "      <td>5</td>\n",
       "      <td>608</td>\n",
       "      <td>2008</td>\n",
       "      <td>11250</td>\n",
       "      <td>68.0</td>\n",
       "      <td>2001</td>\n",
       "      <td>12.317167</td>\n",
       "    </tr>\n",
       "    <tr>\n",
       "      <th>3</th>\n",
       "      <td>140000</td>\n",
       "      <td>7</td>\n",
       "      <td>5</td>\n",
       "      <td>642</td>\n",
       "      <td>2006</td>\n",
       "      <td>9550</td>\n",
       "      <td>60.0</td>\n",
       "      <td>1915</td>\n",
       "      <td>11.849398</td>\n",
       "    </tr>\n",
       "    <tr>\n",
       "      <th>4</th>\n",
       "      <td>250000</td>\n",
       "      <td>8</td>\n",
       "      <td>5</td>\n",
       "      <td>836</td>\n",
       "      <td>2008</td>\n",
       "      <td>14260</td>\n",
       "      <td>84.0</td>\n",
       "      <td>2000</td>\n",
       "      <td>12.429216</td>\n",
       "    </tr>\n",
       "  </tbody>\n",
       "</table>\n",
       "</div>"
      ],
      "text/plain": [
       "   SalePrice  OverallQual  OverallCond  GarageArea  YrSold  LotArea  \\\n",
       "0     208500            7            5         548    2008     8450   \n",
       "1     181500            6            8         460    2007     9600   \n",
       "2     223500            7            5         608    2008    11250   \n",
       "3     140000            7            5         642    2006     9550   \n",
       "4     250000            8            5         836    2008    14260   \n",
       "\n",
       "   LotFrontage  YearBuilt  LogSalePrice  \n",
       "0         65.0       2003     12.247694  \n",
       "1         80.0       1976     12.109011  \n",
       "2         68.0       2001     12.317167  \n",
       "3         60.0       1915     11.849398  \n",
       "4         84.0       2000     12.429216  "
      ]
     },
     "execution_count": 17,
     "metadata": {},
     "output_type": "execute_result"
    }
   ],
   "source": [
    "data_subset[\"LogSalePrice\"] = np.log(data_subset[\"SalePrice\"])\n",
    "data_subset.head()"
   ]
  },
  {
   "cell_type": "code",
   "execution_count": 18,
   "metadata": {
    "collapsed": false
   },
   "outputs": [
    {
     "data": {
      "image/png": "[encoded data removed]",
      "text/plain": [
       "<matplotlib.figure.Figure at 0x246a33e1fd0>"
      ]
     },
     "metadata": {},
     "output_type": "display_data"
    }
   ],
   "source": [
    "plt.scatter(data_subset[\"GarageArea\"], data_subset[\"LogSalePrice\"])\n",
    "plt.title(\"Garage Area X Sale Price\")\n",
    "plt.xlabel(\"Garage Area\")\n",
    "plt.show()"
   ]
  },
  {
   "cell_type": "code",
   "execution_count": 19,
   "metadata": {
    "collapsed": true
   },
   "outputs": [],
   "source": [
    "# Quiz: \n",
    "# Add a column HasGarage which is True IFF the house has a garage\n",
    "# data_subset[\"HasGarage\"] = (data_subset[\"GarageArea\"] > 0)"
   ]
  },
  {
   "cell_type": "markdown",
   "metadata": {},
   "source": [
    "Visualizations aren't really the focus of this talk, so I won't dwell on matplotlib."
   ]
  },
  {
   "cell_type": "markdown",
   "metadata": {},
   "source": [
    "Before we can begin modeling, we ought to take a cursory glance at our data - some of our features have lots of missing values. Particularly `LotFrontage`.\n",
    "\n",
    "NumPy has a sentinel value \"NaN\" (not a number) to indicate missing values. If you want to test for missing values, use `np.isnan`, because equality testing for `np.nan` will fail."
   ]
  },
  {
   "cell_type": "code",
   "execution_count": 20,
   "metadata": {
    "collapsed": false
   },
   "outputs": [
    {
     "name": "stdout",
     "output_type": "stream",
     "text": [
      "LotFrontage 259\n"
     ]
    }
   ],
   "source": [
    "for col in data_subset.columns:\n",
    "    numnan = np.isnan(data_subset[col]).sum()\n",
    "    if numnan > 0:\n",
    "        print (col, numnan)"
   ]
  },
  {
   "cell_type": "markdown",
   "metadata": {},
   "source": [
    "So what do we do with features where we've got missing values? \n",
    "\n",
    "Ideas:\n",
    "* Ditch the feature entirely\n",
    "* Drop rows where values are missing\n",
    "* Replace the missing values\n",
    "\n",
    "For pedagogical purposes, you'll see how each of these can be done in pandas."
   ]
  },
  {
   "cell_type": "code",
   "execution_count": 21,
   "metadata": {
    "collapsed": false
   },
   "outputs": [
    {
     "name": "stdout",
     "output_type": "stream",
     "text": [
      "(1460, 7)\n"
     ]
    },
    {
     "data": {
      "text/html": [
       "<div>\n",
       "<style>\n",
       "    .dataframe thead tr:only-child th {\n",
       "        text-align: right;\n",
       "    }\n",
       "\n",
       "    .dataframe thead th {\n",
       "        text-align: left;\n",
       "    }\n",
       "\n",
       "    .dataframe tbody tr th {\n",
       "        vertical-align: top;\n",
       "    }\n",
       "</style>\n",
       "<table border=\"1\" class=\"dataframe\">\n",
       "  <thead>\n",
       "    <tr style=\"text-align: right;\">\n",
       "      <th></th>\n",
       "      <th>SalePrice</th>\n",
       "      <th>OverallQual</th>\n",
       "      <th>OverallCond</th>\n",
       "      <th>GarageArea</th>\n",
       "      <th>YrSold</th>\n",
       "      <th>LotArea</th>\n",
       "      <th>YearBuilt</th>\n",
       "    </tr>\n",
       "  </thead>\n",
       "  <tbody>\n",
       "    <tr>\n",
       "      <th>0</th>\n",
       "      <td>208500</td>\n",
       "      <td>7</td>\n",
       "      <td>5</td>\n",
       "      <td>548</td>\n",
       "      <td>2008</td>\n",
       "      <td>8450</td>\n",
       "      <td>2003</td>\n",
       "    </tr>\n",
       "    <tr>\n",
       "      <th>1</th>\n",
       "      <td>181500</td>\n",
       "      <td>6</td>\n",
       "      <td>8</td>\n",
       "      <td>460</td>\n",
       "      <td>2007</td>\n",
       "      <td>9600</td>\n",
       "      <td>1976</td>\n",
       "    </tr>\n",
       "    <tr>\n",
       "      <th>2</th>\n",
       "      <td>223500</td>\n",
       "      <td>7</td>\n",
       "      <td>5</td>\n",
       "      <td>608</td>\n",
       "      <td>2008</td>\n",
       "      <td>11250</td>\n",
       "      <td>2001</td>\n",
       "    </tr>\n",
       "    <tr>\n",
       "      <th>3</th>\n",
       "      <td>140000</td>\n",
       "      <td>7</td>\n",
       "      <td>5</td>\n",
       "      <td>642</td>\n",
       "      <td>2006</td>\n",
       "      <td>9550</td>\n",
       "      <td>1915</td>\n",
       "    </tr>\n",
       "    <tr>\n",
       "      <th>4</th>\n",
       "      <td>250000</td>\n",
       "      <td>8</td>\n",
       "      <td>5</td>\n",
       "      <td>836</td>\n",
       "      <td>2008</td>\n",
       "      <td>14260</td>\n",
       "      <td>2000</td>\n",
       "    </tr>\n",
       "  </tbody>\n",
       "</table>\n",
       "</div>"
      ],
      "text/plain": [
       "   SalePrice  OverallQual  OverallCond  GarageArea  YrSold  LotArea  YearBuilt\n",
       "0     208500            7            5         548    2008     8450       2003\n",
       "1     181500            6            8         460    2007     9600       1976\n",
       "2     223500            7            5         608    2008    11250       2001\n",
       "3     140000            7            5         642    2006     9550       1915\n",
       "4     250000            8            5         836    2008    14260       2000"
      ]
     },
     "execution_count": 21,
     "metadata": {},
     "output_type": "execute_result"
    }
   ],
   "source": [
    "# What to do with missing values?\n",
    "\n",
    "# 1. Ditch the feature entirely\n",
    "data_feature_ditched = data_subset[[\"SalePrice\", \"OverallQual\", \"OverallCond\", \"GarageArea\", \n",
    "              \"YrSold\", \"LotArea\", \"YearBuilt\"]].copy()\n",
    "print (data_feature_ditched.shape)\n",
    "data_feature_ditched.head()"
   ]
  },
  {
   "cell_type": "code",
   "execution_count": 22,
   "metadata": {
    "collapsed": false
   },
   "outputs": [
    {
     "name": "stdout",
     "output_type": "stream",
     "text": [
      "(1460, 8)\n"
     ]
    },
    {
     "data": {
      "text/html": [
       "<div>\n",
       "<style>\n",
       "    .dataframe thead tr:only-child th {\n",
       "        text-align: right;\n",
       "    }\n",
       "\n",
       "    .dataframe thead th {\n",
       "        text-align: left;\n",
       "    }\n",
       "\n",
       "    .dataframe tbody tr th {\n",
       "        vertical-align: top;\n",
       "    }\n",
       "</style>\n",
       "<table border=\"1\" class=\"dataframe\">\n",
       "  <thead>\n",
       "    <tr style=\"text-align: right;\">\n",
       "      <th></th>\n",
       "      <th>SalePrice</th>\n",
       "      <th>OverallQual</th>\n",
       "      <th>OverallCond</th>\n",
       "      <th>GarageArea</th>\n",
       "      <th>YrSold</th>\n",
       "      <th>LotArea</th>\n",
       "      <th>YearBuilt</th>\n",
       "      <th>LogSalePrice</th>\n",
       "    </tr>\n",
       "  </thead>\n",
       "  <tbody>\n",
       "    <tr>\n",
       "      <th>0</th>\n",
       "      <td>208500</td>\n",
       "      <td>7</td>\n",
       "      <td>5</td>\n",
       "      <td>548</td>\n",
       "      <td>2008</td>\n",
       "      <td>8450</td>\n",
       "      <td>2003</td>\n",
       "      <td>12.247694</td>\n",
       "    </tr>\n",
       "    <tr>\n",
       "      <th>1</th>\n",
       "      <td>181500</td>\n",
       "      <td>6</td>\n",
       "      <td>8</td>\n",
       "      <td>460</td>\n",
       "      <td>2007</td>\n",
       "      <td>9600</td>\n",
       "      <td>1976</td>\n",
       "      <td>12.109011</td>\n",
       "    </tr>\n",
       "    <tr>\n",
       "      <th>2</th>\n",
       "      <td>223500</td>\n",
       "      <td>7</td>\n",
       "      <td>5</td>\n",
       "      <td>608</td>\n",
       "      <td>2008</td>\n",
       "      <td>11250</td>\n",
       "      <td>2001</td>\n",
       "      <td>12.317167</td>\n",
       "    </tr>\n",
       "    <tr>\n",
       "      <th>3</th>\n",
       "      <td>140000</td>\n",
       "      <td>7</td>\n",
       "      <td>5</td>\n",
       "      <td>642</td>\n",
       "      <td>2006</td>\n",
       "      <td>9550</td>\n",
       "      <td>1915</td>\n",
       "      <td>11.849398</td>\n",
       "    </tr>\n",
       "    <tr>\n",
       "      <th>4</th>\n",
       "      <td>250000</td>\n",
       "      <td>8</td>\n",
       "      <td>5</td>\n",
       "      <td>836</td>\n",
       "      <td>2008</td>\n",
       "      <td>14260</td>\n",
       "      <td>2000</td>\n",
       "      <td>12.429216</td>\n",
       "    </tr>\n",
       "  </tbody>\n",
       "</table>\n",
       "</div>"
      ],
      "text/plain": [
       "   SalePrice  OverallQual  OverallCond  GarageArea  YrSold  LotArea  \\\n",
       "0     208500            7            5         548    2008     8450   \n",
       "1     181500            6            8         460    2007     9600   \n",
       "2     223500            7            5         608    2008    11250   \n",
       "3     140000            7            5         642    2006     9550   \n",
       "4     250000            8            5         836    2008    14260   \n",
       "\n",
       "   YearBuilt  LogSalePrice  \n",
       "0       2003     12.247694  \n",
       "1       1976     12.109011  \n",
       "2       2001     12.317167  \n",
       "3       1915     11.849398  \n",
       "4       2000     12.429216  "
      ]
     },
     "execution_count": 22,
     "metadata": {},
     "output_type": "execute_result"
    }
   ],
   "source": [
    "# 1 (Cont'd, Improved) \n",
    "\n",
    "data_ditched = data_subset.drop(\"LotFrontage\", axis=1)\n",
    "print (data_ditched.shape)\n",
    "data_ditched.head()"
   ]
  },
  {
   "cell_type": "code",
   "execution_count": 23,
   "metadata": {
    "collapsed": false
   },
   "outputs": [
    {
     "name": "stdout",
     "output_type": "stream",
     "text": [
      "(1201, 9)\n"
     ]
    },
    {
     "data": {
      "text/html": [
       "<div>\n",
       "<style>\n",
       "    .dataframe thead tr:only-child th {\n",
       "        text-align: right;\n",
       "    }\n",
       "\n",
       "    .dataframe thead th {\n",
       "        text-align: left;\n",
       "    }\n",
       "\n",
       "    .dataframe tbody tr th {\n",
       "        vertical-align: top;\n",
       "    }\n",
       "</style>\n",
       "<table border=\"1\" class=\"dataframe\">\n",
       "  <thead>\n",
       "    <tr style=\"text-align: right;\">\n",
       "      <th></th>\n",
       "      <th>SalePrice</th>\n",
       "      <th>OverallQual</th>\n",
       "      <th>OverallCond</th>\n",
       "      <th>GarageArea</th>\n",
       "      <th>YrSold</th>\n",
       "      <th>LotArea</th>\n",
       "      <th>LotFrontage</th>\n",
       "      <th>YearBuilt</th>\n",
       "      <th>LogSalePrice</th>\n",
       "    </tr>\n",
       "  </thead>\n",
       "  <tbody>\n",
       "    <tr>\n",
       "      <th>0</th>\n",
       "      <td>208500</td>\n",
       "      <td>7</td>\n",
       "      <td>5</td>\n",
       "      <td>548</td>\n",
       "      <td>2008</td>\n",
       "      <td>8450</td>\n",
       "      <td>65.0</td>\n",
       "      <td>2003</td>\n",
       "      <td>12.247694</td>\n",
       "    </tr>\n",
       "    <tr>\n",
       "      <th>1</th>\n",
       "      <td>181500</td>\n",
       "      <td>6</td>\n",
       "      <td>8</td>\n",
       "      <td>460</td>\n",
       "      <td>2007</td>\n",
       "      <td>9600</td>\n",
       "      <td>80.0</td>\n",
       "      <td>1976</td>\n",
       "      <td>12.109011</td>\n",
       "    </tr>\n",
       "    <tr>\n",
       "      <th>2</th>\n",
       "      <td>223500</td>\n",
       "      <td>7</td>\n",
       "      <td>5</td>\n",
       "      <td>608</td>\n",
       "      <td>2008</td>\n",
       "      <td>11250</td>\n",
       "      <td>68.0</td>\n",
       "      <td>2001</td>\n",
       "      <td>12.317167</td>\n",
       "    </tr>\n",
       "    <tr>\n",
       "      <th>3</th>\n",
       "      <td>140000</td>\n",
       "      <td>7</td>\n",
       "      <td>5</td>\n",
       "      <td>642</td>\n",
       "      <td>2006</td>\n",
       "      <td>9550</td>\n",
       "      <td>60.0</td>\n",
       "      <td>1915</td>\n",
       "      <td>11.849398</td>\n",
       "    </tr>\n",
       "    <tr>\n",
       "      <th>4</th>\n",
       "      <td>250000</td>\n",
       "      <td>8</td>\n",
       "      <td>5</td>\n",
       "      <td>836</td>\n",
       "      <td>2008</td>\n",
       "      <td>14260</td>\n",
       "      <td>84.0</td>\n",
       "      <td>2000</td>\n",
       "      <td>12.429216</td>\n",
       "    </tr>\n",
       "  </tbody>\n",
       "</table>\n",
       "</div>"
      ],
      "text/plain": [
       "   SalePrice  OverallQual  OverallCond  GarageArea  YrSold  LotArea  \\\n",
       "0     208500            7            5         548    2008     8450   \n",
       "1     181500            6            8         460    2007     9600   \n",
       "2     223500            7            5         608    2008    11250   \n",
       "3     140000            7            5         642    2006     9550   \n",
       "4     250000            8            5         836    2008    14260   \n",
       "\n",
       "   LotFrontage  YearBuilt  LogSalePrice  \n",
       "0         65.0       2003     12.247694  \n",
       "1         80.0       1976     12.109011  \n",
       "2         68.0       2001     12.317167  \n",
       "3         60.0       1915     11.849398  \n",
       "4         84.0       2000     12.429216  "
      ]
     },
     "execution_count": 23,
     "metadata": {},
     "output_type": "execute_result"
    }
   ],
   "source": [
    "# 2. Ditch rows where values are missing\n",
    "\n",
    "# np.isnan(data): returns a new dataframe of bools\n",
    "# np.sum(data, axis=1): returns the sum of ROWS of the input dataframe (axis = 0 would be columns)\n",
    "data_clean = data_subset[~np.isnan(data_subset[\"LotFrontage\"])].copy()\n",
    "print (data_clean.shape)\n",
    "data_clean.head()"
   ]
  },
  {
   "cell_type": "code",
   "execution_count": 24,
   "metadata": {
    "collapsed": false
   },
   "outputs": [
    {
     "name": "stdout",
     "output_type": "stream",
     "text": [
      "Int64Index([   0,    1,    2,    3,    4,    5,    6,    8,    9,   10,\n",
      "            ...\n",
      "            1450, 1451, 1452, 1453, 1454, 1455, 1456, 1457, 1458, 1459],\n",
      "           dtype='int64', length=1201)\n",
      "RangeIndex(start=0, stop=1201, step=1)\n"
     ]
    }
   ],
   "source": [
    "print (data_clean.index) # this COULD get confusing down the line, but it's not really a big deal.\n",
    "data_clean = data_clean.reset_index()\n",
    "print (data_clean.index) "
   ]
  },
  {
   "cell_type": "code",
   "execution_count": 25,
   "metadata": {
    "collapsed": false
   },
   "outputs": [
    {
     "name": "stdout",
     "output_type": "stream",
     "text": [
      "(1201, 9)\n",
      "1200\n"
     ]
    },
    {
     "data": {
      "text/html": [
       "<div>\n",
       "<style>\n",
       "    .dataframe thead tr:only-child th {\n",
       "        text-align: right;\n",
       "    }\n",
       "\n",
       "    .dataframe thead th {\n",
       "        text-align: left;\n",
       "    }\n",
       "\n",
       "    .dataframe tbody tr th {\n",
       "        vertical-align: top;\n",
       "    }\n",
       "</style>\n",
       "<table border=\"1\" class=\"dataframe\">\n",
       "  <thead>\n",
       "    <tr style=\"text-align: right;\">\n",
       "      <th></th>\n",
       "      <th>index</th>\n",
       "      <th>SalePrice</th>\n",
       "      <th>OverallQual</th>\n",
       "      <th>OverallCond</th>\n",
       "      <th>GarageArea</th>\n",
       "      <th>YrSold</th>\n",
       "      <th>LotArea</th>\n",
       "      <th>LotFrontage</th>\n",
       "      <th>YearBuilt</th>\n",
       "      <th>LogSalePrice</th>\n",
       "    </tr>\n",
       "  </thead>\n",
       "  <tbody>\n",
       "    <tr>\n",
       "      <th>0</th>\n",
       "      <td>0</td>\n",
       "      <td>208500</td>\n",
       "      <td>7</td>\n",
       "      <td>5</td>\n",
       "      <td>548</td>\n",
       "      <td>2008</td>\n",
       "      <td>8450</td>\n",
       "      <td>65.0</td>\n",
       "      <td>2003</td>\n",
       "      <td>12.247694</td>\n",
       "    </tr>\n",
       "    <tr>\n",
       "      <th>1</th>\n",
       "      <td>1</td>\n",
       "      <td>181500</td>\n",
       "      <td>6</td>\n",
       "      <td>8</td>\n",
       "      <td>460</td>\n",
       "      <td>2007</td>\n",
       "      <td>9600</td>\n",
       "      <td>80.0</td>\n",
       "      <td>1976</td>\n",
       "      <td>12.109011</td>\n",
       "    </tr>\n",
       "    <tr>\n",
       "      <th>2</th>\n",
       "      <td>2</td>\n",
       "      <td>223500</td>\n",
       "      <td>7</td>\n",
       "      <td>5</td>\n",
       "      <td>608</td>\n",
       "      <td>2008</td>\n",
       "      <td>11250</td>\n",
       "      <td>68.0</td>\n",
       "      <td>2001</td>\n",
       "      <td>12.317167</td>\n",
       "    </tr>\n",
       "    <tr>\n",
       "      <th>3</th>\n",
       "      <td>3</td>\n",
       "      <td>140000</td>\n",
       "      <td>7</td>\n",
       "      <td>5</td>\n",
       "      <td>642</td>\n",
       "      <td>2006</td>\n",
       "      <td>9550</td>\n",
       "      <td>60.0</td>\n",
       "      <td>1915</td>\n",
       "      <td>11.849398</td>\n",
       "    </tr>\n",
       "    <tr>\n",
       "      <th>4</th>\n",
       "      <td>4</td>\n",
       "      <td>250000</td>\n",
       "      <td>8</td>\n",
       "      <td>5</td>\n",
       "      <td>836</td>\n",
       "      <td>2008</td>\n",
       "      <td>14260</td>\n",
       "      <td>84.0</td>\n",
       "      <td>2000</td>\n",
       "      <td>12.429216</td>\n",
       "    </tr>\n",
       "  </tbody>\n",
       "</table>\n",
       "</div>"
      ],
      "text/plain": [
       "   index  SalePrice  OverallQual  OverallCond  GarageArea  YrSold  LotArea  \\\n",
       "0      0     208500            7            5         548    2008     8450   \n",
       "1      1     181500            6            8         460    2007     9600   \n",
       "2      2     223500            7            5         608    2008    11250   \n",
       "3      3     140000            7            5         642    2006     9550   \n",
       "4      4     250000            8            5         836    2008    14260   \n",
       "\n",
       "   LotFrontage  YearBuilt  LogSalePrice  \n",
       "0         65.0       2003     12.247694  \n",
       "1         80.0       1976     12.109011  \n",
       "2         68.0       2001     12.317167  \n",
       "3         60.0       1915     11.849398  \n",
       "4         84.0       2000     12.429216  "
      ]
     },
     "execution_count": 25,
     "metadata": {},
     "output_type": "execute_result"
    }
   ],
   "source": [
    "# 2 (cont'd)\n",
    "# More general and pandorable. Maybe I want to check NaNs for lots of rows at once!\n",
    "\n",
    "# data.dropna(how='any')    #to drop if any value in the row has a nan\n",
    "# data.dropna(how='all')    #to drop if all values in the row are nan\n",
    "data_clean = data_subset.dropna(how=\"any\") #dropna returns a new dataframe\n",
    "print (data_clean.shape)\n",
    "data_clean = data_clean.reset_index()\n",
    "print (data_clean.index[-1])\n",
    "data_clean.head()"
   ]
  },
  {
   "cell_type": "code",
   "execution_count": 26,
   "metadata": {
    "collapsed": false
   },
   "outputs": [
    {
     "data": {
      "text/html": [
       "<div>\n",
       "<style>\n",
       "    .dataframe thead tr:only-child th {\n",
       "        text-align: right;\n",
       "    }\n",
       "\n",
       "    .dataframe thead th {\n",
       "        text-align: left;\n",
       "    }\n",
       "\n",
       "    .dataframe tbody tr th {\n",
       "        vertical-align: top;\n",
       "    }\n",
       "</style>\n",
       "<table border=\"1\" class=\"dataframe\">\n",
       "  <thead>\n",
       "    <tr style=\"text-align: right;\">\n",
       "      <th></th>\n",
       "      <th>SalePrice</th>\n",
       "      <th>OverallQual</th>\n",
       "      <th>OverallCond</th>\n",
       "      <th>GarageArea</th>\n",
       "      <th>YrSold</th>\n",
       "      <th>LotArea</th>\n",
       "      <th>LotFrontage</th>\n",
       "      <th>YearBuilt</th>\n",
       "      <th>LogSalePrice</th>\n",
       "    </tr>\n",
       "  </thead>\n",
       "  <tbody>\n",
       "    <tr>\n",
       "      <th>0</th>\n",
       "      <td>208500</td>\n",
       "      <td>7</td>\n",
       "      <td>5</td>\n",
       "      <td>548</td>\n",
       "      <td>2008</td>\n",
       "      <td>8450</td>\n",
       "      <td>65.0</td>\n",
       "      <td>2003</td>\n",
       "      <td>12.247694</td>\n",
       "    </tr>\n",
       "    <tr>\n",
       "      <th>1</th>\n",
       "      <td>181500</td>\n",
       "      <td>6</td>\n",
       "      <td>8</td>\n",
       "      <td>460</td>\n",
       "      <td>2007</td>\n",
       "      <td>9600</td>\n",
       "      <td>80.0</td>\n",
       "      <td>1976</td>\n",
       "      <td>12.109011</td>\n",
       "    </tr>\n",
       "    <tr>\n",
       "      <th>2</th>\n",
       "      <td>223500</td>\n",
       "      <td>7</td>\n",
       "      <td>5</td>\n",
       "      <td>608</td>\n",
       "      <td>2008</td>\n",
       "      <td>11250</td>\n",
       "      <td>68.0</td>\n",
       "      <td>2001</td>\n",
       "      <td>12.317167</td>\n",
       "    </tr>\n",
       "    <tr>\n",
       "      <th>3</th>\n",
       "      <td>140000</td>\n",
       "      <td>7</td>\n",
       "      <td>5</td>\n",
       "      <td>642</td>\n",
       "      <td>2006</td>\n",
       "      <td>9550</td>\n",
       "      <td>60.0</td>\n",
       "      <td>1915</td>\n",
       "      <td>11.849398</td>\n",
       "    </tr>\n",
       "    <tr>\n",
       "      <th>4</th>\n",
       "      <td>250000</td>\n",
       "      <td>8</td>\n",
       "      <td>5</td>\n",
       "      <td>836</td>\n",
       "      <td>2008</td>\n",
       "      <td>14260</td>\n",
       "      <td>84.0</td>\n",
       "      <td>2000</td>\n",
       "      <td>12.429216</td>\n",
       "    </tr>\n",
       "  </tbody>\n",
       "</table>\n",
       "</div>"
      ],
      "text/plain": [
       "   SalePrice  OverallQual  OverallCond  GarageArea  YrSold  LotArea  \\\n",
       "0     208500            7            5         548    2008     8450   \n",
       "1     181500            6            8         460    2007     9600   \n",
       "2     223500            7            5         608    2008    11250   \n",
       "3     140000            7            5         642    2006     9550   \n",
       "4     250000            8            5         836    2008    14260   \n",
       "\n",
       "   LotFrontage  YearBuilt  LogSalePrice  \n",
       "0         65.0       2003     12.247694  \n",
       "1         80.0       1976     12.109011  \n",
       "2         68.0       2001     12.317167  \n",
       "3         60.0       1915     11.849398  \n",
       "4         84.0       2000     12.429216  "
      ]
     },
     "execution_count": 26,
     "metadata": {},
     "output_type": "execute_result"
    }
   ],
   "source": [
    "# 3. Impute missing values\n",
    "# Doing this manually is pretty awful tbh. \n",
    "data_imputed = data_subset.copy()\n",
    "data_imputed = data_imputed.fillna(data_imputed.mean())\n",
    "data_imputed.head()"
   ]
  },
  {
   "cell_type": "code",
   "execution_count": 27,
   "metadata": {
    "collapsed": false
   },
   "outputs": [
    {
     "data": {
      "text/plain": [
       "259"
      ]
     },
     "execution_count": 27,
     "metadata": {},
     "output_type": "execute_result"
    }
   ],
   "source": [
    "pd.isnull(data_subset[\"LotFrontage\"]).sum()"
   ]
  },
  {
   "cell_type": "code",
   "execution_count": 28,
   "metadata": {
    "collapsed": false
   },
   "outputs": [
    {
     "data": {
      "text/plain": [
       "0"
      ]
     },
     "execution_count": 28,
     "metadata": {},
     "output_type": "execute_result"
    }
   ],
   "source": [
    "pd.isnull(data_imputed[\"LotFrontage\"]).sum()"
   ]
  },
  {
   "cell_type": "markdown",
   "metadata": {},
   "source": [
    "### Pandas Aliasing\n",
    "\n",
    "We're pretty fast and loose with pointers here. Here's where we can run into trouble"
   ]
  },
  {
   "cell_type": "code",
   "execution_count": 29,
   "metadata": {
    "collapsed": false
   },
   "outputs": [
    {
     "data": {
      "text/html": [
       "<div>\n",
       "<style>\n",
       "    .dataframe thead tr:only-child th {\n",
       "        text-align: right;\n",
       "    }\n",
       "\n",
       "    .dataframe thead th {\n",
       "        text-align: left;\n",
       "    }\n",
       "\n",
       "    .dataframe tbody tr th {\n",
       "        vertical-align: top;\n",
       "    }\n",
       "</style>\n",
       "<table border=\"1\" class=\"dataframe\">\n",
       "  <thead>\n",
       "    <tr style=\"text-align: right;\">\n",
       "      <th></th>\n",
       "      <th>0</th>\n",
       "      <th>1</th>\n",
       "      <th>2</th>\n",
       "    </tr>\n",
       "  </thead>\n",
       "  <tbody>\n",
       "    <tr>\n",
       "      <th>0</th>\n",
       "      <td>-0.916174</td>\n",
       "      <td>-0.267230</td>\n",
       "      <td>-0.259834</td>\n",
       "    </tr>\n",
       "    <tr>\n",
       "      <th>1</th>\n",
       "      <td>1.561646</td>\n",
       "      <td>-0.868412</td>\n",
       "      <td>0.158948</td>\n",
       "    </tr>\n",
       "    <tr>\n",
       "      <th>2</th>\n",
       "      <td>1.347226</td>\n",
       "      <td>-0.288582</td>\n",
       "      <td>0.209196</td>\n",
       "    </tr>\n",
       "    <tr>\n",
       "      <th>3</th>\n",
       "      <td>0.672496</td>\n",
       "      <td>1.183127</td>\n",
       "      <td>1.334092</td>\n",
       "    </tr>\n",
       "    <tr>\n",
       "      <th>4</th>\n",
       "      <td>-1.135268</td>\n",
       "      <td>1.524883</td>\n",
       "      <td>0.155875</td>\n",
       "    </tr>\n",
       "    <tr>\n",
       "      <th>5</th>\n",
       "      <td>-0.731288</td>\n",
       "      <td>-1.142691</td>\n",
       "      <td>-0.772294</td>\n",
       "    </tr>\n",
       "    <tr>\n",
       "      <th>6</th>\n",
       "      <td>-1.264973</td>\n",
       "      <td>1.795928</td>\n",
       "      <td>-0.445372</td>\n",
       "    </tr>\n",
       "    <tr>\n",
       "      <th>7</th>\n",
       "      <td>-1.030068</td>\n",
       "      <td>-0.022885</td>\n",
       "      <td>-0.136958</td>\n",
       "    </tr>\n",
       "    <tr>\n",
       "      <th>8</th>\n",
       "      <td>-0.846899</td>\n",
       "      <td>-1.777248</td>\n",
       "      <td>1.074732</td>\n",
       "    </tr>\n",
       "    <tr>\n",
       "      <th>9</th>\n",
       "      <td>1.782767</td>\n",
       "      <td>-1.128537</td>\n",
       "      <td>-0.938414</td>\n",
       "    </tr>\n",
       "  </tbody>\n",
       "</table>\n",
       "</div>"
      ],
      "text/plain": [
       "          0         1         2\n",
       "0 -0.916174 -0.267230 -0.259834\n",
       "1  1.561646 -0.868412  0.158948\n",
       "2  1.347226 -0.288582  0.209196\n",
       "3  0.672496  1.183127  1.334092\n",
       "4 -1.135268  1.524883  0.155875\n",
       "5 -0.731288 -1.142691 -0.772294\n",
       "6 -1.264973  1.795928 -0.445372\n",
       "7 -1.030068 -0.022885 -0.136958\n",
       "8 -0.846899 -1.777248  1.074732\n",
       "9  1.782767 -1.128537 -0.938414"
      ]
     },
     "execution_count": 29,
     "metadata": {},
     "output_type": "execute_result"
    }
   ],
   "source": [
    "df = pd.DataFrame(np.random.randn(10,3))\n",
    "df"
   ]
  },
  {
   "cell_type": "code",
   "execution_count": 30,
   "metadata": {
    "collapsed": false
   },
   "outputs": [
    {
     "name": "stdout",
     "output_type": "stream",
     "text": [
      "True\n"
     ]
    }
   ],
   "source": [
    "df2 = df\n",
    "df2[0][0] = df[0][0] + 1\n",
    "print (df2[0][0] == df[0][0]) #Modifying df2 modifies df"
   ]
  },
  {
   "cell_type": "code",
   "execution_count": 31,
   "metadata": {
    "collapsed": false
   },
   "outputs": [
    {
     "name": "stdout",
     "output_type": "stream",
     "text": [
      "False\n"
     ]
    }
   ],
   "source": [
    "df2 = df.copy()\n",
    "df2[0][0] = df[0][0] + 1\n",
    "print (df2[0][0] == df[0][0]) #Fixed"
   ]
  },
  {
   "cell_type": "code",
   "execution_count": 32,
   "metadata": {
    "collapsed": false
   },
   "outputs": [
    {
     "data": {
      "text/plain": [
       "True"
      ]
     },
     "execution_count": 32,
     "metadata": {},
     "output_type": "execute_result"
    }
   ],
   "source": [
    "df3 = df[1]\n",
    "df3[0] = df[1][0] + 1\n",
    "df3[0] == df[1][0] #Oh noes"
   ]
  },
  {
   "cell_type": "code",
   "execution_count": 33,
   "metadata": {
    "collapsed": false
   },
   "outputs": [
    {
     "data": {
      "text/plain": [
       "False"
      ]
     },
     "execution_count": 33,
     "metadata": {},
     "output_type": "execute_result"
    }
   ],
   "source": [
    "df3 = df[1].copy()\n",
    "df3[0] = df[1][0] + 1\n",
    "df3[0] == df[1][0] #fixed"
   ]
  },
  {
   "cell_type": "markdown",
   "metadata": {},
   "source": [
    "## Model Evaluation"
   ]
  },
  {
   "cell_type": "code",
   "execution_count": 34,
   "metadata": {
    "collapsed": false
   },
   "outputs": [],
   "source": [
    "from sklearn.model_selection import train_test_split\n",
    "\n",
    "features = [\"OverallQual\", \"OverallCond\", \"GarageArea\", \n",
    "              \"YrSold\", \"LotArea\", \"LotFrontage\", \"YearBuilt\"]\n",
    "XTrain, XTest, yTrain, yTest = train_test_split(\n",
    "    data_imputed[features], \n",
    "    data_imputed[\"LogSalePrice\"], \n",
    "    test_size=100)\n",
    "# uppercase X denotes that X is a matrix, and lowercase y denotes a vector"
   ]
  },
  {
   "cell_type": "code",
   "execution_count": 35,
   "metadata": {
    "collapsed": true
   },
   "outputs": [],
   "source": [
    "#XTest, XVal, yTest, yVal = train_test_split(XTest, yTest, test_size=50)"
   ]
  },
  {
   "cell_type": "markdown",
   "metadata": {},
   "source": [
    "## Modeling in SciKit-Learn\n",
    "\n",
    "Model-fitting in scikit-learn has a very straightforward paradigm to it. "
   ]
  },
  {
   "cell_type": "code",
   "execution_count": 36,
   "metadata": {
    "collapsed": false
   },
   "outputs": [],
   "source": [
    "from sklearn import linear_model \n",
    "\n",
    "# Initialize linear regression object\n",
    "model = linear_model.LinearRegression(fit_intercept=True)\n",
    "\n",
    "# fit your model to training data\n",
    "model.fit(XTrain, yTrain)\n",
    "\n",
    "# Make predictions using the testing set\n",
    "yPreds = model.predict(XTest)"
   ]
  },
  {
   "cell_type": "code",
   "execution_count": 37,
   "metadata": {
    "collapsed": false
   },
   "outputs": [
    {
     "name": "stdout",
     "output_type": "stream",
     "text": [
      "Test R-Squared: 0.746733297614\n",
      "Training R-Squared: 0.772226867414\n"
     ]
    }
   ],
   "source": [
    "from sklearn.metrics import r2_score\n",
    "\n",
    "print (\"Test R-Squared:\", r2_score(y_true = yTest, y_pred = yPreds))\n",
    "print (\"Training R-Squared:\", r2_score(y_true = yTrain, y_pred = model.predict(XTrain)))"
   ]
  },
  {
   "cell_type": "code",
   "execution_count": 38,
   "metadata": {
    "collapsed": false
   },
   "outputs": [
    {
     "data": {
      "text/plain": [
       "0.19984594645208154"
      ]
     },
     "execution_count": 38,
     "metadata": {},
     "output_type": "execute_result"
    }
   ],
   "source": [
    "# Root Mean Squared Error\n",
    "np.sqrt(np.mean((yTest - yPreds)**2))"
   ]
  },
  {
   "cell_type": "code",
   "execution_count": 41,
   "metadata": {
    "collapsed": false
   },
   "outputs": [
    {
     "data": {
      "text/plain": [
       "48705.659788495635"
      ]
     },
     "execution_count": 41,
     "metadata": {},
     "output_type": "execute_result"
    }
   ],
   "source": [
    "# Original basis\n",
    "np.sqrt(np.mean((np.exp(yTest) - np.exp(yPreds))**2))"
   ]
  },
  {
   "cell_type": "code",
   "execution_count": 39,
   "metadata": {
    "collapsed": false
   },
   "outputs": [
    {
     "name": "stdout",
     "output_type": "stream",
     "text": [
      "OverallQual 0.159960119124\n",
      "OverallCond 0.0436098223249\n",
      "GarageArea 0.000395133519152\n",
      "YrSold -0.00328418331005\n",
      "LotArea 5.25884592326e-06\n",
      "LotFrontage 0.00143170727137\n",
      "YearBuilt 0.00271982889371\n",
      "Intercept 11.6952289797\n"
     ]
    }
   ],
   "source": [
    "for i in range(len(features)):\n",
    "    print (features[i], model.coef_[i])\n",
    "    \n",
    "print (\"Intercept\", model.intercept_)"
   ]
  },
  {
   "cell_type": "code",
   "execution_count": 40,
   "metadata": {
    "collapsed": false
   },
   "outputs": [
    {
     "data": {
      "image/png": "[encoded data removed]",
      "text/plain": [
       "<matplotlib.figure.Figure at 0x246a39e3da0>"
      ]
     },
     "metadata": {},
     "output_type": "display_data"
    }
   ],
   "source": [
    "plt.scatter(yPreds, yPreds - yTest)\n",
    "plt.xlabel(\"Predicted Log of Sale Price\")\n",
    "plt.ylabel(\"Residual\")\n",
    "plt.title(\"Residual Plot\")\n",
    "plt.show()"
   ]
  }
 ],
 "metadata": {
  "anaconda-cloud": {},
  "kernelspec": {
   "display_name": "Python [default]",
   "language": "python",
   "name": "python3"
  },
  "language_info": {
   "codemirror_mode": {
    "name": "ipython",
    "version": 3
   },
   "file_extension": ".py",
   "mimetype": "text/x-python",
   "name": "python",
   "nbconvert_exporter": "python",
   "pygments_lexer": "ipython3",
   "version": "3.5.2"
  },
  "name": "numpy-sklearn",
  "notebookId": 180028466381421
 },
 "nbformat": 4,
 "nbformat_minor": 0
}
